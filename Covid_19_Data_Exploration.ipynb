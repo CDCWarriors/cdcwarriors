{
  "nbformat": 4,
  "nbformat_minor": 0,
  "metadata": {
    "colab": {
      "name": "Covid-19-Data-Exploration.ipynb",
      "provenance": [],
      "collapsed_sections": [],
      "authorship_tag": "ABX9TyOTK2kKiG1iOh578L63trvg",
      "include_colab_link": true
    },
    "kernelspec": {
      "name": "python3",
      "display_name": "Python 3"
    }
  },
  "cells": [
    {
      "cell_type": "markdown",
      "metadata": {
        "id": "view-in-github",
        "colab_type": "text"
      },
      "source": [
        "<a href=\"https://colab.research.google.com/github/aiformankind/covid-19-hackathon/blob/master/Covid_19_Data_Exploration.ipynb\" target=\"_parent\"><img src=\"https://colab.research.google.com/assets/colab-badge.svg\" alt=\"Open In Colab\"/></a>"
      ]
    },
    {
      "cell_type": "code",
      "metadata": {
        "id": "vDJiMoHnbm1t",
        "colab_type": "code",
        "colab": {
          "base_uri": "https://localhost:8080/",
          "height": 34
        },
        "outputId": "5ae03875-57f4-4e8d-c026-cf7525af5cbd"
      },
      "source": [
        "!git clone https://github.com/CSSEGISandData/COVID-19"
      ],
      "execution_count": 121,
      "outputs": [
        {
          "output_type": "stream",
          "text": [
            "fatal: destination path 'COVID-19' already exists and is not an empty directory.\n"
          ],
          "name": "stdout"
        }
      ]
    },
    {
      "cell_type": "code",
      "metadata": {
        "id": "AubuctKtb0Xv",
        "colab_type": "code",
        "colab": {
          "base_uri": "https://localhost:8080/",
          "height": 125
        },
        "outputId": "4607b50b-ff3b-4374-c723-de21976a5929"
      },
      "source": [
        "!head -5 COVID-19/csse_covid_19_data/csse_covid_19_time_series/time_series_19-covid-Confirmed.csv"
      ],
      "execution_count": 122,
      "outputs": [
        {
          "output_type": "stream",
          "text": [
            "Province/State,Country/Region,Lat,Long,1/22/20,1/23/20,1/24/20,1/25/20,1/26/20,1/27/20,1/28/20,1/29/20,1/30/20,1/31/20,2/1/20,2/2/20,2/3/20,2/4/20,2/5/20,2/6/20,2/7/20,2/8/20,2/9/20,2/10/20,2/11/20,2/12/20,2/13/20,2/14/20,2/15/20,2/16/20,2/17/20,2/18/20,2/19/20,2/20/20,2/21/20,2/22/20,2/23/20,2/24/20,2/25/20,2/26/20,2/27/20,2/28/20,2/29/20,3/1/20,3/2/20,3/3/20\r\n",
            "Anhui,Mainland China,31.8257,117.2264,1,9,15,39,60,70,106,152,200,237,297,340,408,480,530,591,665,733,779,830,860,889,910,934,950,962,973,982,986,987,988,989,989,989,989,989,989,990,990,990,990,990\r\n",
            "Beijing,Mainland China,40.1824,116.4142,14,22,36,41,68,80,91,111,114,139,168,191,212,228,253,274,297,315,326,337,342,352,366,372,375,380,381,387,393,395,396,399,399,399,400,400,410,410,411,413,414,414\r\n",
            "Chongqing,Mainland China,30.0572,107.874,6,9,27,57,75,110,132,147,182,211,247,300,337,366,389,411,426,428,468,486,505,518,529,537,544,551,553,555,560,567,572,573,575,576,576,576,576,576,576,576,576,576\r\n",
            "Fujian,Mainland China,26.0789,117.9874,1,5,10,18,35,59,80,84,101,120,144,159,179,194,205,215,224,239,250,261,267,272,279,281,285,287,290,292,293,293,293,293,293,293,294,294,296,296,296,296,296,296\r\n"
          ],
          "name": "stdout"
        }
      ]
    },
    {
      "cell_type": "code",
      "metadata": {
        "id": "51j02B1_b8Q-",
        "colab_type": "code",
        "colab": {
          "base_uri": "https://localhost:8080/",
          "height": 125
        },
        "outputId": "3d1e0351-d10c-48b3-cf70-2040dbc8268a"
      },
      "source": [
        "!head -5 COVID-19/who_covid_19_situation_reports/who_covid_19_sit_rep_time_series/who_covid_19_sit_rep_time_series.csv"
      ],
      "execution_count": 123,
      "outputs": [
        {
          "output_type": "stream",
          "text": [
            "﻿Province/States,Country/Region,WHO region,1/21/2020,1/22/2020,1/23/2020,1/24/2020,1/25/2020,1/26/2020,1/27/2020,1/28/2020,1/29/2020,1/30/2020,1/31/2020,2/1/2020,2/2/2020,2/3/2020,2/4/2020,2/5/2020,2/6/2020,2/7/2020,2/8/2020,2/9/2020,2/10/2020,2/11/2020,2/12/2020,2/13/2020,2/14/2020,2/15/2020,2/16/2020,2/17/2020,2/18/2020,2/19/2020,2/20/2020,2/21/2020,2/22/2020,2/23/2020,2/24/2020\r\n",
            "Confirmed,Globally,,282,314,581,846,1320,2014,2798,4593,6065,7818,9826,11953,14557,17391,20630,24554,28276,31481,34886,37558,40554,43103,45171,46997,49053,50580,51857,71429,73332,75204,75748,76769,77794,78811,79331\r\n",
            "Confirmed,Mainland China,Western Pacific Region,278,309,571,830,1297,1985,2741,4537,5997,7736,9720,11821,14411,17238,20471,24363,28060,31211,34598,37251,40235,42708,44730,46550,48548,50054,51174,70635,72528,74280,74675,75569,76392,77042,77262\r\n",
            "Confirmed,Outside of China,,4,5,10,16,23,29,57,56,68,82,106,132,146,153,159,191,216,270,288,307,319,395,441,447,505,526,683,794,804,924,1073,1200,1402,1769,2069\r\n",
            "Suspected,Mainland China,Western Pacific Region,,,,,,,5794,6973,9239,12167,15238,,,,,,,,,,,,,,,,,,,,,,,,\r\n"
          ],
          "name": "stdout"
        }
      ]
    },
    {
      "cell_type": "code",
      "metadata": {
        "id": "u01GjVoNcgKv",
        "colab_type": "code",
        "colab": {
          "base_uri": "https://localhost:8080/",
          "height": 34
        },
        "outputId": "c5361aa4-87c9-4f37-b6cf-2f471a14d5c9"
      },
      "source": [
        "from __future__ import print_function\n",
        "\n",
        "import pandas as pd\n",
        "pd.__version__"
      ],
      "execution_count": 124,
      "outputs": [
        {
          "output_type": "execute_result",
          "data": {
            "text/plain": [
              "'0.25.3'"
            ]
          },
          "metadata": {
            "tags": []
          },
          "execution_count": 124
        }
      ]
    },
    {
      "cell_type": "code",
      "metadata": {
        "id": "lGGZioLjckNy",
        "colab_type": "code",
        "colab": {
          "base_uri": "https://localhost:8080/",
          "height": 651
        },
        "outputId": "3f46b600-126a-4607-e572-ee7b293762c1"
      },
      "source": [
        "covid_across_countries_df = pd.read_csv('COVID-19/who_covid_19_situation_reports/who_covid_19_sit_rep_time_series/who_covid_19_sit_rep_time_series.csv', skiprows=0)\n",
        "covid_across_countries_df.head(10)"
      ],
      "execution_count": 125,
      "outputs": [
        {
          "output_type": "execute_result",
          "data": {
            "text/html": [
              "<div>\n",
              "<style scoped>\n",
              "    .dataframe tbody tr th:only-of-type {\n",
              "        vertical-align: middle;\n",
              "    }\n",
              "\n",
              "    .dataframe tbody tr th {\n",
              "        vertical-align: top;\n",
              "    }\n",
              "\n",
              "    .dataframe thead th {\n",
              "        text-align: right;\n",
              "    }\n",
              "</style>\n",
              "<table border=\"1\" class=\"dataframe\">\n",
              "  <thead>\n",
              "    <tr style=\"text-align: right;\">\n",
              "      <th></th>\n",
              "      <th>Province/States</th>\n",
              "      <th>Country/Region</th>\n",
              "      <th>WHO region</th>\n",
              "      <th>1/21/2020</th>\n",
              "      <th>1/22/2020</th>\n",
              "      <th>1/23/2020</th>\n",
              "      <th>1/24/2020</th>\n",
              "      <th>1/25/2020</th>\n",
              "      <th>1/26/2020</th>\n",
              "      <th>1/27/2020</th>\n",
              "      <th>1/28/2020</th>\n",
              "      <th>1/29/2020</th>\n",
              "      <th>1/30/2020</th>\n",
              "      <th>1/31/2020</th>\n",
              "      <th>2/1/2020</th>\n",
              "      <th>2/2/2020</th>\n",
              "      <th>2/3/2020</th>\n",
              "      <th>2/4/2020</th>\n",
              "      <th>2/5/2020</th>\n",
              "      <th>2/6/2020</th>\n",
              "      <th>2/7/2020</th>\n",
              "      <th>2/8/2020</th>\n",
              "      <th>2/9/2020</th>\n",
              "      <th>2/10/2020</th>\n",
              "      <th>2/11/2020</th>\n",
              "      <th>2/12/2020</th>\n",
              "      <th>2/13/2020</th>\n",
              "      <th>2/14/2020</th>\n",
              "      <th>2/15/2020</th>\n",
              "      <th>2/16/2020</th>\n",
              "      <th>2/17/2020</th>\n",
              "      <th>2/18/2020</th>\n",
              "      <th>2/19/2020</th>\n",
              "      <th>2/20/2020</th>\n",
              "      <th>2/21/2020</th>\n",
              "      <th>2/22/2020</th>\n",
              "      <th>2/23/2020</th>\n",
              "      <th>2/24/2020</th>\n",
              "    </tr>\n",
              "  </thead>\n",
              "  <tbody>\n",
              "    <tr>\n",
              "      <th>0</th>\n",
              "      <td>Confirmed</td>\n",
              "      <td>Globally</td>\n",
              "      <td>NaN</td>\n",
              "      <td>282.0</td>\n",
              "      <td>314.0</td>\n",
              "      <td>581.0</td>\n",
              "      <td>846.0</td>\n",
              "      <td>1320.0</td>\n",
              "      <td>2014.0</td>\n",
              "      <td>2798.0</td>\n",
              "      <td>4593.0</td>\n",
              "      <td>6065.0</td>\n",
              "      <td>7818.0</td>\n",
              "      <td>9826.0</td>\n",
              "      <td>11953.0</td>\n",
              "      <td>14557.0</td>\n",
              "      <td>17391.0</td>\n",
              "      <td>20630.0</td>\n",
              "      <td>24554.0</td>\n",
              "      <td>28276.0</td>\n",
              "      <td>31481.0</td>\n",
              "      <td>34886.0</td>\n",
              "      <td>37558.0</td>\n",
              "      <td>40554.0</td>\n",
              "      <td>43103.0</td>\n",
              "      <td>45171.0</td>\n",
              "      <td>46997.0</td>\n",
              "      <td>49053.0</td>\n",
              "      <td>50580.0</td>\n",
              "      <td>51857.0</td>\n",
              "      <td>71429.0</td>\n",
              "      <td>73332.0</td>\n",
              "      <td>75204.0</td>\n",
              "      <td>75748.0</td>\n",
              "      <td>76769.0</td>\n",
              "      <td>77794.0</td>\n",
              "      <td>78811.0</td>\n",
              "      <td>79331.0</td>\n",
              "    </tr>\n",
              "    <tr>\n",
              "      <th>1</th>\n",
              "      <td>Confirmed</td>\n",
              "      <td>Mainland China</td>\n",
              "      <td>Western Pacific Region</td>\n",
              "      <td>278.0</td>\n",
              "      <td>309.0</td>\n",
              "      <td>571.0</td>\n",
              "      <td>830.0</td>\n",
              "      <td>1297.0</td>\n",
              "      <td>1985.0</td>\n",
              "      <td>2741.0</td>\n",
              "      <td>4537.0</td>\n",
              "      <td>5997.0</td>\n",
              "      <td>7736.0</td>\n",
              "      <td>9720.0</td>\n",
              "      <td>11821.0</td>\n",
              "      <td>14411.0</td>\n",
              "      <td>17238.0</td>\n",
              "      <td>20471.0</td>\n",
              "      <td>24363.0</td>\n",
              "      <td>28060.0</td>\n",
              "      <td>31211.0</td>\n",
              "      <td>34598.0</td>\n",
              "      <td>37251.0</td>\n",
              "      <td>40235.0</td>\n",
              "      <td>42708.0</td>\n",
              "      <td>44730.0</td>\n",
              "      <td>46550.0</td>\n",
              "      <td>48548.0</td>\n",
              "      <td>50054.0</td>\n",
              "      <td>51174.0</td>\n",
              "      <td>70635.0</td>\n",
              "      <td>72528.0</td>\n",
              "      <td>74280.0</td>\n",
              "      <td>74675.0</td>\n",
              "      <td>75569.0</td>\n",
              "      <td>76392.0</td>\n",
              "      <td>77042.0</td>\n",
              "      <td>77262.0</td>\n",
              "    </tr>\n",
              "    <tr>\n",
              "      <th>2</th>\n",
              "      <td>Confirmed</td>\n",
              "      <td>Outside of China</td>\n",
              "      <td>NaN</td>\n",
              "      <td>4.0</td>\n",
              "      <td>5.0</td>\n",
              "      <td>10.0</td>\n",
              "      <td>16.0</td>\n",
              "      <td>23.0</td>\n",
              "      <td>29.0</td>\n",
              "      <td>57.0</td>\n",
              "      <td>56.0</td>\n",
              "      <td>68.0</td>\n",
              "      <td>82.0</td>\n",
              "      <td>106.0</td>\n",
              "      <td>132.0</td>\n",
              "      <td>146.0</td>\n",
              "      <td>153.0</td>\n",
              "      <td>159.0</td>\n",
              "      <td>191.0</td>\n",
              "      <td>216.0</td>\n",
              "      <td>270.0</td>\n",
              "      <td>288.0</td>\n",
              "      <td>307.0</td>\n",
              "      <td>319.0</td>\n",
              "      <td>395.0</td>\n",
              "      <td>441.0</td>\n",
              "      <td>447.0</td>\n",
              "      <td>505.0</td>\n",
              "      <td>526.0</td>\n",
              "      <td>683.0</td>\n",
              "      <td>794.0</td>\n",
              "      <td>804.0</td>\n",
              "      <td>924.0</td>\n",
              "      <td>1073.0</td>\n",
              "      <td>1200.0</td>\n",
              "      <td>1402.0</td>\n",
              "      <td>1769.0</td>\n",
              "      <td>2069.0</td>\n",
              "    </tr>\n",
              "    <tr>\n",
              "      <th>3</th>\n",
              "      <td>Suspected</td>\n",
              "      <td>Mainland China</td>\n",
              "      <td>Western Pacific Region</td>\n",
              "      <td>NaN</td>\n",
              "      <td>NaN</td>\n",
              "      <td>NaN</td>\n",
              "      <td>NaN</td>\n",
              "      <td>NaN</td>\n",
              "      <td>NaN</td>\n",
              "      <td>5794.0</td>\n",
              "      <td>6973.0</td>\n",
              "      <td>9239.0</td>\n",
              "      <td>12167.0</td>\n",
              "      <td>15238.0</td>\n",
              "      <td>NaN</td>\n",
              "      <td>NaN</td>\n",
              "      <td>NaN</td>\n",
              "      <td>NaN</td>\n",
              "      <td>NaN</td>\n",
              "      <td>NaN</td>\n",
              "      <td>NaN</td>\n",
              "      <td>NaN</td>\n",
              "      <td>NaN</td>\n",
              "      <td>NaN</td>\n",
              "      <td>NaN</td>\n",
              "      <td>NaN</td>\n",
              "      <td>NaN</td>\n",
              "      <td>NaN</td>\n",
              "      <td>NaN</td>\n",
              "      <td>NaN</td>\n",
              "      <td>NaN</td>\n",
              "      <td>NaN</td>\n",
              "      <td>NaN</td>\n",
              "      <td>NaN</td>\n",
              "      <td>NaN</td>\n",
              "      <td>NaN</td>\n",
              "      <td>NaN</td>\n",
              "      <td>NaN</td>\n",
              "    </tr>\n",
              "    <tr>\n",
              "      <th>4</th>\n",
              "      <td>Severe</td>\n",
              "      <td>Mainland China</td>\n",
              "      <td>Western Pacific Region</td>\n",
              "      <td>NaN</td>\n",
              "      <td>NaN</td>\n",
              "      <td>NaN</td>\n",
              "      <td>NaN</td>\n",
              "      <td>NaN</td>\n",
              "      <td>NaN</td>\n",
              "      <td>461.0</td>\n",
              "      <td>976.0</td>\n",
              "      <td>1239.0</td>\n",
              "      <td>1370.0</td>\n",
              "      <td>1527.0</td>\n",
              "      <td>1795.0</td>\n",
              "      <td>2110.0</td>\n",
              "      <td>2296.0</td>\n",
              "      <td>2788.0</td>\n",
              "      <td>3219.0</td>\n",
              "      <td>3859.0</td>\n",
              "      <td>4821.0</td>\n",
              "      <td>6101.0</td>\n",
              "      <td>6188.0</td>\n",
              "      <td>6484.0</td>\n",
              "      <td>7333.0</td>\n",
              "      <td>8204.0</td>\n",
              "      <td>NaN</td>\n",
              "      <td>NaN</td>\n",
              "      <td>NaN</td>\n",
              "      <td>NaN</td>\n",
              "      <td>NaN</td>\n",
              "      <td>NaN</td>\n",
              "      <td>NaN</td>\n",
              "      <td>NaN</td>\n",
              "      <td>NaN</td>\n",
              "      <td>NaN</td>\n",
              "      <td>NaN</td>\n",
              "      <td>NaN</td>\n",
              "    </tr>\n",
              "    <tr>\n",
              "      <th>5</th>\n",
              "      <td>Deaths</td>\n",
              "      <td>Mainland China</td>\n",
              "      <td>Western Pacific Region</td>\n",
              "      <td>NaN</td>\n",
              "      <td>NaN</td>\n",
              "      <td>NaN</td>\n",
              "      <td>NaN</td>\n",
              "      <td>NaN</td>\n",
              "      <td>NaN</td>\n",
              "      <td>80.0</td>\n",
              "      <td>106.0</td>\n",
              "      <td>132.0</td>\n",
              "      <td>170.0</td>\n",
              "      <td>213.0</td>\n",
              "      <td>259.0</td>\n",
              "      <td>304.0</td>\n",
              "      <td>361.0</td>\n",
              "      <td>425.0</td>\n",
              "      <td>491.0</td>\n",
              "      <td>564.0</td>\n",
              "      <td>637.0</td>\n",
              "      <td>723.0</td>\n",
              "      <td>812.0</td>\n",
              "      <td>909.0</td>\n",
              "      <td>1017.0</td>\n",
              "      <td>1114.0</td>\n",
              "      <td>1260.0</td>\n",
              "      <td>1381.0</td>\n",
              "      <td>1524.0</td>\n",
              "      <td>1666.0</td>\n",
              "      <td>1772.0</td>\n",
              "      <td>1870.0</td>\n",
              "      <td>2006.0</td>\n",
              "      <td>2121.0</td>\n",
              "      <td>2239.0</td>\n",
              "      <td>2348.0</td>\n",
              "      <td>2445.0</td>\n",
              "      <td>2595.0</td>\n",
              "    </tr>\n",
              "    <tr>\n",
              "      <th>6</th>\n",
              "      <td>Hubei</td>\n",
              "      <td>China</td>\n",
              "      <td>Western Pacific Region</td>\n",
              "      <td>258.0</td>\n",
              "      <td>270.0</td>\n",
              "      <td>375.0</td>\n",
              "      <td>375.0</td>\n",
              "      <td>NaN</td>\n",
              "      <td>NaN</td>\n",
              "      <td>NaN</td>\n",
              "      <td>NaN</td>\n",
              "      <td>NaN</td>\n",
              "      <td>NaN</td>\n",
              "      <td>NaN</td>\n",
              "      <td>7153.0</td>\n",
              "      <td>9074.0</td>\n",
              "      <td>11177.0</td>\n",
              "      <td>13522.0</td>\n",
              "      <td>16678.0</td>\n",
              "      <td>19665.0</td>\n",
              "      <td>22112.0</td>\n",
              "      <td>24953.0</td>\n",
              "      <td>27100.0</td>\n",
              "      <td>29631.0</td>\n",
              "      <td>31728.0</td>\n",
              "      <td>33366.0</td>\n",
              "      <td>34874.0</td>\n",
              "      <td>51968.0</td>\n",
              "      <td>54406.0</td>\n",
              "      <td>56249.0</td>\n",
              "      <td>58182.0</td>\n",
              "      <td>59989.0</td>\n",
              "      <td>61682.0</td>\n",
              "      <td>62031.0</td>\n",
              "      <td>66262.0</td>\n",
              "      <td>63454.0</td>\n",
              "      <td>64084.0</td>\n",
              "      <td>64287.0</td>\n",
              "    </tr>\n",
              "    <tr>\n",
              "      <th>7</th>\n",
              "      <td>Guangdong</td>\n",
              "      <td>China</td>\n",
              "      <td>Western Pacific Region</td>\n",
              "      <td>14.0</td>\n",
              "      <td>17.0</td>\n",
              "      <td>26.0</td>\n",
              "      <td>32.0</td>\n",
              "      <td>NaN</td>\n",
              "      <td>NaN</td>\n",
              "      <td>NaN</td>\n",
              "      <td>NaN</td>\n",
              "      <td>NaN</td>\n",
              "      <td>NaN</td>\n",
              "      <td>NaN</td>\n",
              "      <td>520.0</td>\n",
              "      <td>604.0</td>\n",
              "      <td>683.0</td>\n",
              "      <td>797.0</td>\n",
              "      <td>870.0</td>\n",
              "      <td>944.0</td>\n",
              "      <td>1018.0</td>\n",
              "      <td>1075.0</td>\n",
              "      <td>1120.0</td>\n",
              "      <td>1151.0</td>\n",
              "      <td>1177.0</td>\n",
              "      <td>1219.0</td>\n",
              "      <td>1241.0</td>\n",
              "      <td>1261.0</td>\n",
              "      <td>1295.0</td>\n",
              "      <td>1316.0</td>\n",
              "      <td>1322.0</td>\n",
              "      <td>1328.0</td>\n",
              "      <td>1331.0</td>\n",
              "      <td>1332.0</td>\n",
              "      <td>1333.0</td>\n",
              "      <td>1339.0</td>\n",
              "      <td>1342.0</td>\n",
              "      <td>1345.0</td>\n",
              "    </tr>\n",
              "    <tr>\n",
              "      <th>8</th>\n",
              "      <td>Beijing</td>\n",
              "      <td>China</td>\n",
              "      <td>Western Pacific Region</td>\n",
              "      <td>5.0</td>\n",
              "      <td>5.0</td>\n",
              "      <td>10.0</td>\n",
              "      <td>10.0</td>\n",
              "      <td>NaN</td>\n",
              "      <td>NaN</td>\n",
              "      <td>NaN</td>\n",
              "      <td>NaN</td>\n",
              "      <td>NaN</td>\n",
              "      <td>NaN</td>\n",
              "      <td>NaN</td>\n",
              "      <td>156.0</td>\n",
              "      <td>183.0</td>\n",
              "      <td>212.0</td>\n",
              "      <td>228.0</td>\n",
              "      <td>253.0</td>\n",
              "      <td>274.0</td>\n",
              "      <td>297.0</td>\n",
              "      <td>315.0</td>\n",
              "      <td>326.0</td>\n",
              "      <td>337.0</td>\n",
              "      <td>342.0</td>\n",
              "      <td>352.0</td>\n",
              "      <td>366.0</td>\n",
              "      <td>372.0</td>\n",
              "      <td>375.0</td>\n",
              "      <td>380.0</td>\n",
              "      <td>381.0</td>\n",
              "      <td>387.0</td>\n",
              "      <td>393.0</td>\n",
              "      <td>395.0</td>\n",
              "      <td>396.0</td>\n",
              "      <td>399.0</td>\n",
              "      <td>399.0</td>\n",
              "      <td>399.0</td>\n",
              "    </tr>\n",
              "    <tr>\n",
              "      <th>9</th>\n",
              "      <td>Shanghai</td>\n",
              "      <td>China</td>\n",
              "      <td>Western Pacific Region</td>\n",
              "      <td>1.0</td>\n",
              "      <td>2.0</td>\n",
              "      <td>9.0</td>\n",
              "      <td>9.0</td>\n",
              "      <td>NaN</td>\n",
              "      <td>NaN</td>\n",
              "      <td>NaN</td>\n",
              "      <td>NaN</td>\n",
              "      <td>NaN</td>\n",
              "      <td>NaN</td>\n",
              "      <td>NaN</td>\n",
              "      <td>153.0</td>\n",
              "      <td>177.0</td>\n",
              "      <td>193.0</td>\n",
              "      <td>208.0</td>\n",
              "      <td>233.0</td>\n",
              "      <td>254.0</td>\n",
              "      <td>269.0</td>\n",
              "      <td>281.0</td>\n",
              "      <td>292.0</td>\n",
              "      <td>295.0</td>\n",
              "      <td>302.0</td>\n",
              "      <td>306.0</td>\n",
              "      <td>313.0</td>\n",
              "      <td>318.0</td>\n",
              "      <td>326.0</td>\n",
              "      <td>328.0</td>\n",
              "      <td>331.0</td>\n",
              "      <td>333.0</td>\n",
              "      <td>333.0</td>\n",
              "      <td>333.0</td>\n",
              "      <td>334.0</td>\n",
              "      <td>334.0</td>\n",
              "      <td>335.0</td>\n",
              "      <td>335.0</td>\n",
              "    </tr>\n",
              "  </tbody>\n",
              "</table>\n",
              "</div>"
            ],
            "text/plain": [
              "  Province/States    Country/Region  ... 2/23/2020  2/24/2020\n",
              "0       Confirmed          Globally  ...   78811.0    79331.0\n",
              "1       Confirmed    Mainland China  ...   77042.0    77262.0\n",
              "2       Confirmed  Outside of China  ...    1769.0     2069.0\n",
              "3       Suspected    Mainland China  ...       NaN        NaN\n",
              "4          Severe    Mainland China  ...       NaN        NaN\n",
              "5          Deaths    Mainland China  ...    2445.0     2595.0\n",
              "6          Hubei              China  ...   64084.0    64287.0\n",
              "7       Guangdong             China  ...    1342.0     1345.0\n",
              "8         Beijing             China  ...     399.0      399.0\n",
              "9        Shanghai             China  ...     335.0      335.0\n",
              "\n",
              "[10 rows x 38 columns]"
            ]
          },
          "metadata": {
            "tags": []
          },
          "execution_count": 125
        }
      ]
    },
    {
      "cell_type": "code",
      "metadata": {
        "id": "1wZOmmjjczQU",
        "colab_type": "code",
        "colab": {
          "base_uri": "https://localhost:8080/",
          "height": 123
        },
        "outputId": "27b8e1a6-160a-425c-8828-1df889571675"
      },
      "source": [
        "global_timeseries = covid_across_countries_df.iloc[0].iloc[3:]\n",
        "global_timeseries.head(5)"
      ],
      "execution_count": 126,
      "outputs": [
        {
          "output_type": "execute_result",
          "data": {
            "text/plain": [
              "1/21/2020     282\n",
              "1/22/2020     314\n",
              "1/23/2020     581\n",
              "1/24/2020     846\n",
              "1/25/2020    1320\n",
              "Name: 0, dtype: object"
            ]
          },
          "metadata": {
            "tags": []
          },
          "execution_count": 126
        }
      ]
    },
    {
      "cell_type": "code",
      "metadata": {
        "id": "PinKUe8Rc8uo",
        "colab_type": "code",
        "colab": {
          "base_uri": "https://localhost:8080/",
          "height": 284
        },
        "outputId": "ab4c664b-5b48-47b8-c3b7-1a3d26b4b3f9"
      },
      "source": [
        "import matplotlib.pyplot as plt\n",
        "import seaborn as sns\n",
        "sns.set(rc={'figure.figsize':(11, 4)})\n",
        "ax = global_timeseries.plot(linewidth=0.5, marker='o', linestyle='-')\n",
        "ax.set_title('Global Covid-19 Confirmed Cases')\n",
        "ax.set_ylabel('Daily Confirmed Cases');"
      ],
      "execution_count": 127,
      "outputs": [
        {
          "output_type": "display_data",
          "data": {
            "image/png": "[encoded data removed]",
            "text/plain": [
              "<Figure size 792x288 with 1 Axes>"
            ]
          },
          "metadata": {
            "tags": []
          }
        }
      ]
    },
    {
      "cell_type": "code",
      "metadata": {
        "id": "HKvF6IBifaCx",
        "colab_type": "code",
        "colab": {
          "base_uri": "https://localhost:8080/",
          "height": 197
        },
        "outputId": "15647a83-3e80-4fba-ef2f-b62adfa25f11"
      },
      "source": [
        "global_timeseries = covid_across_countries_df.iloc[:2].T.iloc[3:]\n",
        "global_timeseries.head(5)"
      ],
      "execution_count": 128,
      "outputs": [
        {
          "output_type": "execute_result",
          "data": {
            "text/html": [
              "<div>\n",
              "<style scoped>\n",
              "    .dataframe tbody tr th:only-of-type {\n",
              "        vertical-align: middle;\n",
              "    }\n",
              "\n",
              "    .dataframe tbody tr th {\n",
              "        vertical-align: top;\n",
              "    }\n",
              "\n",
              "    .dataframe thead th {\n",
              "        text-align: right;\n",
              "    }\n",
              "</style>\n",
              "<table border=\"1\" class=\"dataframe\">\n",
              "  <thead>\n",
              "    <tr style=\"text-align: right;\">\n",
              "      <th></th>\n",
              "      <th>0</th>\n",
              "      <th>1</th>\n",
              "    </tr>\n",
              "  </thead>\n",
              "  <tbody>\n",
              "    <tr>\n",
              "      <th>1/21/2020</th>\n",
              "      <td>282</td>\n",
              "      <td>278</td>\n",
              "    </tr>\n",
              "    <tr>\n",
              "      <th>1/22/2020</th>\n",
              "      <td>314</td>\n",
              "      <td>309</td>\n",
              "    </tr>\n",
              "    <tr>\n",
              "      <th>1/23/2020</th>\n",
              "      <td>581</td>\n",
              "      <td>571</td>\n",
              "    </tr>\n",
              "    <tr>\n",
              "      <th>1/24/2020</th>\n",
              "      <td>846</td>\n",
              "      <td>830</td>\n",
              "    </tr>\n",
              "    <tr>\n",
              "      <th>1/25/2020</th>\n",
              "      <td>1320</td>\n",
              "      <td>1297</td>\n",
              "    </tr>\n",
              "  </tbody>\n",
              "</table>\n",
              "</div>"
            ],
            "text/plain": [
              "              0     1\n",
              "1/21/2020   282   278\n",
              "1/22/2020   314   309\n",
              "1/23/2020   581   571\n",
              "1/24/2020   846   830\n",
              "1/25/2020  1320  1297"
            ]
          },
          "metadata": {
            "tags": []
          },
          "execution_count": 128
        }
      ]
    },
    {
      "cell_type": "code",
      "metadata": {
        "id": "MqhboKFLwY8w",
        "colab_type": "code",
        "colab": {
          "base_uri": "https://localhost:8080/",
          "height": 197
        },
        "outputId": "35a6d690-d0a1-4866-ae7c-ffc82155e656"
      },
      "source": [
        "#pd.to_datetime(global_timeseries.iloc[:,0])\n",
        "global_timeseries['global']=global_timeseries.iloc[:,0]\n",
        "global_timeseries['USA']=global_timeseries.iloc[:,1]\n",
        "global_timeseries.drop(global_timeseries.columns[0],axis=1, inplace=True)\n",
        "global_timeseries.drop(global_timeseries.columns[0],axis=1, inplace=True)\n",
        "global_timeseries.head(5)\n"
      ],
      "execution_count": 129,
      "outputs": [
        {
          "output_type": "execute_result",
          "data": {
            "text/html": [
              "<div>\n",
              "<style scoped>\n",
              "    .dataframe tbody tr th:only-of-type {\n",
              "        vertical-align: middle;\n",
              "    }\n",
              "\n",
              "    .dataframe tbody tr th {\n",
              "        vertical-align: top;\n",
              "    }\n",
              "\n",
              "    .dataframe thead th {\n",
              "        text-align: right;\n",
              "    }\n",
              "</style>\n",
              "<table border=\"1\" class=\"dataframe\">\n",
              "  <thead>\n",
              "    <tr style=\"text-align: right;\">\n",
              "      <th></th>\n",
              "      <th>global</th>\n",
              "      <th>USA</th>\n",
              "    </tr>\n",
              "  </thead>\n",
              "  <tbody>\n",
              "    <tr>\n",
              "      <th>1/21/2020</th>\n",
              "      <td>282</td>\n",
              "      <td>278</td>\n",
              "    </tr>\n",
              "    <tr>\n",
              "      <th>1/22/2020</th>\n",
              "      <td>314</td>\n",
              "      <td>309</td>\n",
              "    </tr>\n",
              "    <tr>\n",
              "      <th>1/23/2020</th>\n",
              "      <td>581</td>\n",
              "      <td>571</td>\n",
              "    </tr>\n",
              "    <tr>\n",
              "      <th>1/24/2020</th>\n",
              "      <td>846</td>\n",
              "      <td>830</td>\n",
              "    </tr>\n",
              "    <tr>\n",
              "      <th>1/25/2020</th>\n",
              "      <td>1320</td>\n",
              "      <td>1297</td>\n",
              "    </tr>\n",
              "  </tbody>\n",
              "</table>\n",
              "</div>"
            ],
            "text/plain": [
              "          global   USA\n",
              "1/21/2020    282   278\n",
              "1/22/2020    314   309\n",
              "1/23/2020    581   571\n",
              "1/24/2020    846   830\n",
              "1/25/2020   1320  1297"
            ]
          },
          "metadata": {
            "tags": []
          },
          "execution_count": 129
        }
      ]
    },
    {
      "cell_type": "code",
      "metadata": {
        "id": "_ILb5ediHmVE",
        "colab_type": "code",
        "colab": {
          "base_uri": "https://localhost:8080/",
          "height": 197
        },
        "outputId": "614af313-0aec-42cc-c71c-77fd511d673f"
      },
      "source": [
        "global_timeseries.index = pd.to_datetime(global_timeseries.index)\n",
        "global_timeseries.head(5)"
      ],
      "execution_count": 130,
      "outputs": [
        {
          "output_type": "execute_result",
          "data": {
            "text/html": [
              "<div>\n",
              "<style scoped>\n",
              "    .dataframe tbody tr th:only-of-type {\n",
              "        vertical-align: middle;\n",
              "    }\n",
              "\n",
              "    .dataframe tbody tr th {\n",
              "        vertical-align: top;\n",
              "    }\n",
              "\n",
              "    .dataframe thead th {\n",
              "        text-align: right;\n",
              "    }\n",
              "</style>\n",
              "<table border=\"1\" class=\"dataframe\">\n",
              "  <thead>\n",
              "    <tr style=\"text-align: right;\">\n",
              "      <th></th>\n",
              "      <th>global</th>\n",
              "      <th>USA</th>\n",
              "    </tr>\n",
              "  </thead>\n",
              "  <tbody>\n",
              "    <tr>\n",
              "      <th>2020-01-21</th>\n",
              "      <td>282</td>\n",
              "      <td>278</td>\n",
              "    </tr>\n",
              "    <tr>\n",
              "      <th>2020-01-22</th>\n",
              "      <td>314</td>\n",
              "      <td>309</td>\n",
              "    </tr>\n",
              "    <tr>\n",
              "      <th>2020-01-23</th>\n",
              "      <td>581</td>\n",
              "      <td>571</td>\n",
              "    </tr>\n",
              "    <tr>\n",
              "      <th>2020-01-24</th>\n",
              "      <td>846</td>\n",
              "      <td>830</td>\n",
              "    </tr>\n",
              "    <tr>\n",
              "      <th>2020-01-25</th>\n",
              "      <td>1320</td>\n",
              "      <td>1297</td>\n",
              "    </tr>\n",
              "  </tbody>\n",
              "</table>\n",
              "</div>"
            ],
            "text/plain": [
              "           global   USA\n",
              "2020-01-21    282   278\n",
              "2020-01-22    314   309\n",
              "2020-01-23    581   571\n",
              "2020-01-24    846   830\n",
              "2020-01-25   1320  1297"
            ]
          },
          "metadata": {
            "tags": []
          },
          "execution_count": 130
        }
      ]
    },
    {
      "cell_type": "code",
      "metadata": {
        "id": "N1_KhbrBgvVY",
        "colab_type": "code",
        "colab": {
          "base_uri": "https://localhost:8080/",
          "height": 336
        },
        "outputId": "54d8bac6-6b27-43aa-b815-4c96f333ee95"
      },
      "source": [
        "import matplotlib.pyplot as plt\n",
        "import seaborn as sns\n",
        "import matplotlib.dates as mdates\n",
        "pd.plotting.register_matplotlib_converters()\n",
        "\n",
        "cols = ['global', 'USA']\n",
        "sns.set(rc={'figure.figsize':(11, 4)})\n",
        "ax = global_timeseries[cols].plot(linewidth=0.5, marker='o', linestyle='-')\n",
        "ax.set_title('Global Covid-19 Daily Confirmed Cases')\n",
        "ax.set_ylabel('Daily Confirmed Cases')\n",
        "#ax.xaxis.set_major_locator(mdates.WeekdayLocator(byweekday=mdates.MONDAY))\n",
        "#ax.xaxis.set_major_formatter(mdates.DateFormatter('%b %d'))"
      ],
      "execution_count": 131,
      "outputs": [
        {
          "output_type": "execute_result",
          "data": {
            "text/plain": [
              "Text(0, 0.5, 'Daily Confirmed Cases')"
            ]
          },
          "metadata": {
            "tags": []
          },
          "execution_count": 131
        },
        {
          "output_type": "display_data",
          "data": {
            "image/png": "[encoded data removed]",
            "text/plain": [
              "<Figure size 792x288 with 1 Axes>"
            ]
          },
          "metadata": {
            "tags": []
          }
        }
      ]
    },
    {
      "cell_type": "code",
      "metadata": {
        "id": "gitH0Vu6JEPt",
        "colab_type": "code",
        "colab": {
          "base_uri": "https://localhost:8080/",
          "height": 197
        },
        "outputId": "fbf40390-ebd5-4b74-a907-bde7f7f0396a"
      },
      "source": [
        "global_timeseries['year'] = global_timeseries.index.year\n",
        "global_timeseries['month'] = global_timeseries.index.month\n",
        "global_timeseries['weekday'] = global_timeseries.index.weekday_name\n",
        "global_timeseries.head(5)"
      ],
      "execution_count": 132,
      "outputs": [
        {
          "output_type": "execute_result",
          "data": {
            "text/html": [
              "<div>\n",
              "<style scoped>\n",
              "    .dataframe tbody tr th:only-of-type {\n",
              "        vertical-align: middle;\n",
              "    }\n",
              "\n",
              "    .dataframe tbody tr th {\n",
              "        vertical-align: top;\n",
              "    }\n",
              "\n",
              "    .dataframe thead th {\n",
              "        text-align: right;\n",
              "    }\n",
              "</style>\n",
              "<table border=\"1\" class=\"dataframe\">\n",
              "  <thead>\n",
              "    <tr style=\"text-align: right;\">\n",
              "      <th></th>\n",
              "      <th>global</th>\n",
              "      <th>USA</th>\n",
              "      <th>year</th>\n",
              "      <th>month</th>\n",
              "      <th>weekday</th>\n",
              "    </tr>\n",
              "  </thead>\n",
              "  <tbody>\n",
              "    <tr>\n",
              "      <th>2020-01-21</th>\n",
              "      <td>282</td>\n",
              "      <td>278</td>\n",
              "      <td>2020</td>\n",
              "      <td>1</td>\n",
              "      <td>Tuesday</td>\n",
              "    </tr>\n",
              "    <tr>\n",
              "      <th>2020-01-22</th>\n",
              "      <td>314</td>\n",
              "      <td>309</td>\n",
              "      <td>2020</td>\n",
              "      <td>1</td>\n",
              "      <td>Wednesday</td>\n",
              "    </tr>\n",
              "    <tr>\n",
              "      <th>2020-01-23</th>\n",
              "      <td>581</td>\n",
              "      <td>571</td>\n",
              "      <td>2020</td>\n",
              "      <td>1</td>\n",
              "      <td>Thursday</td>\n",
              "    </tr>\n",
              "    <tr>\n",
              "      <th>2020-01-24</th>\n",
              "      <td>846</td>\n",
              "      <td>830</td>\n",
              "      <td>2020</td>\n",
              "      <td>1</td>\n",
              "      <td>Friday</td>\n",
              "    </tr>\n",
              "    <tr>\n",
              "      <th>2020-01-25</th>\n",
              "      <td>1320</td>\n",
              "      <td>1297</td>\n",
              "      <td>2020</td>\n",
              "      <td>1</td>\n",
              "      <td>Saturday</td>\n",
              "    </tr>\n",
              "  </tbody>\n",
              "</table>\n",
              "</div>"
            ],
            "text/plain": [
              "           global   USA  year  month    weekday\n",
              "2020-01-21    282   278  2020      1    Tuesday\n",
              "2020-01-22    314   309  2020      1  Wednesday\n",
              "2020-01-23    581   571  2020      1   Thursday\n",
              "2020-01-24    846   830  2020      1     Friday\n",
              "2020-01-25   1320  1297  2020      1   Saturday"
            ]
          },
          "metadata": {
            "tags": []
          },
          "execution_count": 132
        }
      ]
    },
    {
      "cell_type": "code",
      "metadata": {
        "id": "siWZoF89KgB7",
        "colab_type": "code",
        "colab": {
          "base_uri": "https://localhost:8080/",
          "height": 302
        },
        "outputId": "81f795fe-ee6b-4c15-9024-c9caecce05a5"
      },
      "source": [
        "sns.boxplot(data=global_timeseries, x='weekday', y='global')"
      ],
      "execution_count": 133,
      "outputs": [
        {
          "output_type": "execute_result",
          "data": {
            "text/plain": [
              "<matplotlib.axes._subplots.AxesSubplot at 0x7f26de736710>"
            ]
          },
          "metadata": {
            "tags": []
          },
          "execution_count": 133
        },
        {
          "output_type": "display_data",
          "data": {
            "image/png": "[encoded data removed]",
            "text/plain": [
              "<Figure size 792x288 with 1 Axes>"
            ]
          },
          "metadata": {
            "tags": []
          }
        }
      ]
    },
    {
      "cell_type": "code",
      "metadata": {
        "id": "mlOE1UVrLlCY",
        "colab_type": "code",
        "colab": {
          "base_uri": "https://localhost:8080/",
          "height": 284
        },
        "outputId": "a0133c18-6291-44f8-b224-fa7cb4a5f658"
      },
      "source": [
        "sns.boxplot(data=global_timeseries, x='month', y='global');"
      ],
      "execution_count": 134,
      "outputs": [
        {
          "output_type": "display_data",
          "data": {
            "image/png": "[encoded data removed]",
            "text/plain": [
              "<Figure size 792x288 with 1 Axes>"
            ]
          },
          "metadata": {
            "tags": []
          }
        }
      ]
    },
    {
      "cell_type": "code",
      "metadata": {
        "id": "saUyHsqyRNsa",
        "colab_type": "code",
        "colab": {
          "base_uri": "https://localhost:8080/",
          "height": 347
        },
        "outputId": "d09ab151-e218-486a-832e-8cc645c6b79a"
      },
      "source": [
        "global_timeseries.head(10)"
      ],
      "execution_count": 135,
      "outputs": [
        {
          "output_type": "execute_result",
          "data": {
            "text/html": [
              "<div>\n",
              "<style scoped>\n",
              "    .dataframe tbody tr th:only-of-type {\n",
              "        vertical-align: middle;\n",
              "    }\n",
              "\n",
              "    .dataframe tbody tr th {\n",
              "        vertical-align: top;\n",
              "    }\n",
              "\n",
              "    .dataframe thead th {\n",
              "        text-align: right;\n",
              "    }\n",
              "</style>\n",
              "<table border=\"1\" class=\"dataframe\">\n",
              "  <thead>\n",
              "    <tr style=\"text-align: right;\">\n",
              "      <th></th>\n",
              "      <th>global</th>\n",
              "      <th>USA</th>\n",
              "      <th>year</th>\n",
              "      <th>month</th>\n",
              "      <th>weekday</th>\n",
              "    </tr>\n",
              "  </thead>\n",
              "  <tbody>\n",
              "    <tr>\n",
              "      <th>2020-01-21</th>\n",
              "      <td>282</td>\n",
              "      <td>278</td>\n",
              "      <td>2020</td>\n",
              "      <td>1</td>\n",
              "      <td>Tuesday</td>\n",
              "    </tr>\n",
              "    <tr>\n",
              "      <th>2020-01-22</th>\n",
              "      <td>314</td>\n",
              "      <td>309</td>\n",
              "      <td>2020</td>\n",
              "      <td>1</td>\n",
              "      <td>Wednesday</td>\n",
              "    </tr>\n",
              "    <tr>\n",
              "      <th>2020-01-23</th>\n",
              "      <td>581</td>\n",
              "      <td>571</td>\n",
              "      <td>2020</td>\n",
              "      <td>1</td>\n",
              "      <td>Thursday</td>\n",
              "    </tr>\n",
              "    <tr>\n",
              "      <th>2020-01-24</th>\n",
              "      <td>846</td>\n",
              "      <td>830</td>\n",
              "      <td>2020</td>\n",
              "      <td>1</td>\n",
              "      <td>Friday</td>\n",
              "    </tr>\n",
              "    <tr>\n",
              "      <th>2020-01-25</th>\n",
              "      <td>1320</td>\n",
              "      <td>1297</td>\n",
              "      <td>2020</td>\n",
              "      <td>1</td>\n",
              "      <td>Saturday</td>\n",
              "    </tr>\n",
              "    <tr>\n",
              "      <th>2020-01-26</th>\n",
              "      <td>2014</td>\n",
              "      <td>1985</td>\n",
              "      <td>2020</td>\n",
              "      <td>1</td>\n",
              "      <td>Sunday</td>\n",
              "    </tr>\n",
              "    <tr>\n",
              "      <th>2020-01-27</th>\n",
              "      <td>2798</td>\n",
              "      <td>2741</td>\n",
              "      <td>2020</td>\n",
              "      <td>1</td>\n",
              "      <td>Monday</td>\n",
              "    </tr>\n",
              "    <tr>\n",
              "      <th>2020-01-28</th>\n",
              "      <td>4593</td>\n",
              "      <td>4537</td>\n",
              "      <td>2020</td>\n",
              "      <td>1</td>\n",
              "      <td>Tuesday</td>\n",
              "    </tr>\n",
              "    <tr>\n",
              "      <th>2020-01-29</th>\n",
              "      <td>6065</td>\n",
              "      <td>5997</td>\n",
              "      <td>2020</td>\n",
              "      <td>1</td>\n",
              "      <td>Wednesday</td>\n",
              "    </tr>\n",
              "    <tr>\n",
              "      <th>2020-01-30</th>\n",
              "      <td>7818</td>\n",
              "      <td>7736</td>\n",
              "      <td>2020</td>\n",
              "      <td>1</td>\n",
              "      <td>Thursday</td>\n",
              "    </tr>\n",
              "  </tbody>\n",
              "</table>\n",
              "</div>"
            ],
            "text/plain": [
              "           global   USA  year  month    weekday\n",
              "2020-01-21    282   278  2020      1    Tuesday\n",
              "2020-01-22    314   309  2020      1  Wednesday\n",
              "2020-01-23    581   571  2020      1   Thursday\n",
              "2020-01-24    846   830  2020      1     Friday\n",
              "2020-01-25   1320  1297  2020      1   Saturday\n",
              "2020-01-26   2014  1985  2020      1     Sunday\n",
              "2020-01-27   2798  2741  2020      1     Monday\n",
              "2020-01-28   4593  4537  2020      1    Tuesday\n",
              "2020-01-29   6065  5997  2020      1  Wednesday\n",
              "2020-01-30   7818  7736  2020      1   Thursday"
            ]
          },
          "metadata": {
            "tags": []
          },
          "execution_count": 135
        }
      ]
    },
    {
      "cell_type": "code",
      "metadata": {
        "id": "160A-FVzRQZZ",
        "colab_type": "code",
        "colab": {
          "base_uri": "https://localhost:8080/",
          "height": 347
        },
        "outputId": "3f6ff4d5-c0a0-42a2-bdef-82ce95b1c543"
      },
      "source": [
        "global_timeseries['date'] = global_timeseries.index.to_frame(index=True)\n",
        "global_timeseries.head(10)"
      ],
      "execution_count": 136,
      "outputs": [
        {
          "output_type": "execute_result",
          "data": {
            "text/html": [
              "<div>\n",
              "<style scoped>\n",
              "    .dataframe tbody tr th:only-of-type {\n",
              "        vertical-align: middle;\n",
              "    }\n",
              "\n",
              "    .dataframe tbody tr th {\n",
              "        vertical-align: top;\n",
              "    }\n",
              "\n",
              "    .dataframe thead th {\n",
              "        text-align: right;\n",
              "    }\n",
              "</style>\n",
              "<table border=\"1\" class=\"dataframe\">\n",
              "  <thead>\n",
              "    <tr style=\"text-align: right;\">\n",
              "      <th></th>\n",
              "      <th>global</th>\n",
              "      <th>USA</th>\n",
              "      <th>year</th>\n",
              "      <th>month</th>\n",
              "      <th>weekday</th>\n",
              "      <th>date</th>\n",
              "    </tr>\n",
              "  </thead>\n",
              "  <tbody>\n",
              "    <tr>\n",
              "      <th>2020-01-21</th>\n",
              "      <td>282</td>\n",
              "      <td>278</td>\n",
              "      <td>2020</td>\n",
              "      <td>1</td>\n",
              "      <td>Tuesday</td>\n",
              "      <td>2020-01-21</td>\n",
              "    </tr>\n",
              "    <tr>\n",
              "      <th>2020-01-22</th>\n",
              "      <td>314</td>\n",
              "      <td>309</td>\n",
              "      <td>2020</td>\n",
              "      <td>1</td>\n",
              "      <td>Wednesday</td>\n",
              "      <td>2020-01-22</td>\n",
              "    </tr>\n",
              "    <tr>\n",
              "      <th>2020-01-23</th>\n",
              "      <td>581</td>\n",
              "      <td>571</td>\n",
              "      <td>2020</td>\n",
              "      <td>1</td>\n",
              "      <td>Thursday</td>\n",
              "      <td>2020-01-23</td>\n",
              "    </tr>\n",
              "    <tr>\n",
              "      <th>2020-01-24</th>\n",
              "      <td>846</td>\n",
              "      <td>830</td>\n",
              "      <td>2020</td>\n",
              "      <td>1</td>\n",
              "      <td>Friday</td>\n",
              "      <td>2020-01-24</td>\n",
              "    </tr>\n",
              "    <tr>\n",
              "      <th>2020-01-25</th>\n",
              "      <td>1320</td>\n",
              "      <td>1297</td>\n",
              "      <td>2020</td>\n",
              "      <td>1</td>\n",
              "      <td>Saturday</td>\n",
              "      <td>2020-01-25</td>\n",
              "    </tr>\n",
              "    <tr>\n",
              "      <th>2020-01-26</th>\n",
              "      <td>2014</td>\n",
              "      <td>1985</td>\n",
              "      <td>2020</td>\n",
              "      <td>1</td>\n",
              "      <td>Sunday</td>\n",
              "      <td>2020-01-26</td>\n",
              "    </tr>\n",
              "    <tr>\n",
              "      <th>2020-01-27</th>\n",
              "      <td>2798</td>\n",
              "      <td>2741</td>\n",
              "      <td>2020</td>\n",
              "      <td>1</td>\n",
              "      <td>Monday</td>\n",
              "      <td>2020-01-27</td>\n",
              "    </tr>\n",
              "    <tr>\n",
              "      <th>2020-01-28</th>\n",
              "      <td>4593</td>\n",
              "      <td>4537</td>\n",
              "      <td>2020</td>\n",
              "      <td>1</td>\n",
              "      <td>Tuesday</td>\n",
              "      <td>2020-01-28</td>\n",
              "    </tr>\n",
              "    <tr>\n",
              "      <th>2020-01-29</th>\n",
              "      <td>6065</td>\n",
              "      <td>5997</td>\n",
              "      <td>2020</td>\n",
              "      <td>1</td>\n",
              "      <td>Wednesday</td>\n",
              "      <td>2020-01-29</td>\n",
              "    </tr>\n",
              "    <tr>\n",
              "      <th>2020-01-30</th>\n",
              "      <td>7818</td>\n",
              "      <td>7736</td>\n",
              "      <td>2020</td>\n",
              "      <td>1</td>\n",
              "      <td>Thursday</td>\n",
              "      <td>2020-01-30</td>\n",
              "    </tr>\n",
              "  </tbody>\n",
              "</table>\n",
              "</div>"
            ],
            "text/plain": [
              "           global   USA  year  month    weekday       date\n",
              "2020-01-21    282   278  2020      1    Tuesday 2020-01-21\n",
              "2020-01-22    314   309  2020      1  Wednesday 2020-01-22\n",
              "2020-01-23    581   571  2020      1   Thursday 2020-01-23\n",
              "2020-01-24    846   830  2020      1     Friday 2020-01-24\n",
              "2020-01-25   1320  1297  2020      1   Saturday 2020-01-25\n",
              "2020-01-26   2014  1985  2020      1     Sunday 2020-01-26\n",
              "2020-01-27   2798  2741  2020      1     Monday 2020-01-27\n",
              "2020-01-28   4593  4537  2020      1    Tuesday 2020-01-28\n",
              "2020-01-29   6065  5997  2020      1  Wednesday 2020-01-29\n",
              "2020-01-30   7818  7736  2020      1   Thursday 2020-01-30"
            ]
          },
          "metadata": {
            "tags": []
          },
          "execution_count": 136
        }
      ]
    },
    {
      "cell_type": "code",
      "metadata": {
        "id": "6ECZ_I1KM5TO",
        "colab_type": "code",
        "colab": {
          "base_uri": "https://localhost:8080/",
          "height": 197
        },
        "outputId": "0efb4414-e36a-47f8-ecdb-0bf69e3098b1"
      },
      "source": [
        "global_data = global_timeseries.rename(columns={'date': 'ds', 'global': 'y'})\n",
        "global_data.head(5)\n"
      ],
      "execution_count": 137,
      "outputs": [
        {
          "output_type": "execute_result",
          "data": {
            "text/html": [
              "<div>\n",
              "<style scoped>\n",
              "    .dataframe tbody tr th:only-of-type {\n",
              "        vertical-align: middle;\n",
              "    }\n",
              "\n",
              "    .dataframe tbody tr th {\n",
              "        vertical-align: top;\n",
              "    }\n",
              "\n",
              "    .dataframe thead th {\n",
              "        text-align: right;\n",
              "    }\n",
              "</style>\n",
              "<table border=\"1\" class=\"dataframe\">\n",
              "  <thead>\n",
              "    <tr style=\"text-align: right;\">\n",
              "      <th></th>\n",
              "      <th>y</th>\n",
              "      <th>USA</th>\n",
              "      <th>year</th>\n",
              "      <th>month</th>\n",
              "      <th>weekday</th>\n",
              "      <th>ds</th>\n",
              "    </tr>\n",
              "  </thead>\n",
              "  <tbody>\n",
              "    <tr>\n",
              "      <th>2020-01-21</th>\n",
              "      <td>282</td>\n",
              "      <td>278</td>\n",
              "      <td>2020</td>\n",
              "      <td>1</td>\n",
              "      <td>Tuesday</td>\n",
              "      <td>2020-01-21</td>\n",
              "    </tr>\n",
              "    <tr>\n",
              "      <th>2020-01-22</th>\n",
              "      <td>314</td>\n",
              "      <td>309</td>\n",
              "      <td>2020</td>\n",
              "      <td>1</td>\n",
              "      <td>Wednesday</td>\n",
              "      <td>2020-01-22</td>\n",
              "    </tr>\n",
              "    <tr>\n",
              "      <th>2020-01-23</th>\n",
              "      <td>581</td>\n",
              "      <td>571</td>\n",
              "      <td>2020</td>\n",
              "      <td>1</td>\n",
              "      <td>Thursday</td>\n",
              "      <td>2020-01-23</td>\n",
              "    </tr>\n",
              "    <tr>\n",
              "      <th>2020-01-24</th>\n",
              "      <td>846</td>\n",
              "      <td>830</td>\n",
              "      <td>2020</td>\n",
              "      <td>1</td>\n",
              "      <td>Friday</td>\n",
              "      <td>2020-01-24</td>\n",
              "    </tr>\n",
              "    <tr>\n",
              "      <th>2020-01-25</th>\n",
              "      <td>1320</td>\n",
              "      <td>1297</td>\n",
              "      <td>2020</td>\n",
              "      <td>1</td>\n",
              "      <td>Saturday</td>\n",
              "      <td>2020-01-25</td>\n",
              "    </tr>\n",
              "  </tbody>\n",
              "</table>\n",
              "</div>"
            ],
            "text/plain": [
              "               y   USA  year  month    weekday         ds\n",
              "2020-01-21   282   278  2020      1    Tuesday 2020-01-21\n",
              "2020-01-22   314   309  2020      1  Wednesday 2020-01-22\n",
              "2020-01-23   581   571  2020      1   Thursday 2020-01-23\n",
              "2020-01-24   846   830  2020      1     Friday 2020-01-24\n",
              "2020-01-25  1320  1297  2020      1   Saturday 2020-01-25"
            ]
          },
          "metadata": {
            "tags": []
          },
          "execution_count": 137
        }
      ]
    },
    {
      "cell_type": "code",
      "metadata": {
        "id": "0aNZNT6xSZsh",
        "colab_type": "code",
        "colab": {
          "base_uri": "https://localhost:8080/",
          "height": 70
        },
        "outputId": "e04b2dbc-1083-4b2f-f564-53b16cc6d75e"
      },
      "source": [
        "import fbprophet\n",
        "global_prophet = fbprophet.Prophet(changepoint_prior_scale=0.15)\n",
        "global_prophet.fit(global_data)\n"
      ],
      "execution_count": 138,
      "outputs": [
        {
          "output_type": "stream",
          "text": [
            "INFO:fbprophet:Disabling yearly seasonality. Run prophet with yearly_seasonality=True to override this.\n",
            "INFO:fbprophet:Disabling daily seasonality. Run prophet with daily_seasonality=True to override this.\n"
          ],
          "name": "stderr"
        },
        {
          "output_type": "execute_result",
          "data": {
            "text/plain": [
              "<fbprophet.forecaster.Prophet at 0x7f26dbd6c3c8>"
            ]
          },
          "metadata": {
            "tags": []
          },
          "execution_count": 138
        }
      ]
    },
    {
      "cell_type": "code",
      "metadata": {
        "id": "iBVpjjQOSlig",
        "colab_type": "code",
        "colab": {}
      },
      "source": [
        "global_forecast = global_prophet.make_future_dataframe(periods=365 * 2, freq='D')\n",
        "global_forecast = global_prophet.predict(global_forecast)"
      ],
      "execution_count": 0,
      "outputs": []
    },
    {
      "cell_type": "code",
      "metadata": {
        "id": "lknvn7c7TB47",
        "colab_type": "code",
        "colab": {
          "base_uri": "https://localhost:8080/",
          "height": 453
        },
        "outputId": "1f4fdd0d-0e56-4445-da7d-699084941463"
      },
      "source": [
        "global_prophet.plot(global_forecast, xlabel = 'Date', ylabel = 'Daily Confirmed Cases')\n",
        "plt.title('Daily Confirmed Cases Without Intervention');"
      ],
      "execution_count": 140,
      "outputs": [
        {
          "output_type": "display_data",
          "data": {
            "image/png": "[encoded data removed]",
            "text/plain": [
              "<Figure size 720x432 with 1 Axes>"
            ]
          },
          "metadata": {
            "tags": []
          }
        }
      ]
    },
    {
      "cell_type": "code",
      "metadata": {
        "id": "dcri0GlcTvgT",
        "colab_type": "code",
        "colab": {
          "base_uri": "https://localhost:8080/",
          "height": 212
        },
        "outputId": "cbc40ec3-be24-4143-d709-485d1ee44fc2"
      },
      "source": [
        "global_prophet.changepoints[:10]"
      ],
      "execution_count": 141,
      "outputs": [
        {
          "output_type": "execute_result",
          "data": {
            "text/plain": [
              "1    2020-01-22\n",
              "2    2020-01-23\n",
              "3    2020-01-24\n",
              "4    2020-01-25\n",
              "5    2020-01-26\n",
              "6    2020-01-27\n",
              "8    2020-01-29\n",
              "9    2020-01-30\n",
              "10   2020-01-31\n",
              "11   2020-02-01\n",
              "Name: ds, dtype: datetime64[ns]"
            ]
          },
          "metadata": {
            "tags": []
          },
          "execution_count": 141
        }
      ]
    }
  ]
}