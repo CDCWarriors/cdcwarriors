{
  "nbformat": 4,
  "nbformat_minor": 0,
  "metadata": {
    "colab": {
      "name": "MedicalEntityRecognition.ipynb",
      "provenance": [],
      "private_outputs": true,
      "collapsed_sections": [],
      "authorship_tag": "ABX9TyN6e6k/DdbQU/6XRzwdKXwY",
      "include_colab_link": true
    },
    "kernelspec": {
      "name": "python3",
      "display_name": "Python 3"
    }
  },
  "cells": [
    {
      "cell_type": "markdown",
      "metadata": {
        "id": "view-in-github",
        "colab_type": "text"
      },
      "source": [
        "<a href=\"https://colab.research.google.com/github/kaniska/covid-19-hackathon/blob/master/MedicalEntityRecognition.ipynb\" target=\"_parent\"><img src=\"https://colab.research.google.com/assets/colab-badge.svg\" alt=\"Open In Colab\"/></a>"
      ]
    },
    {
      "cell_type": "code",
      "metadata": {
        "id": "lnEVU3dj4PkT",
        "colab_type": "code",
        "colab": {}
      },
      "source": [
        "%%time\n",
        "!pip install pybind11"
      ],
      "execution_count": 0,
      "outputs": []
    },
    {
      "cell_type": "code",
      "metadata": {
        "id": "gDS0nwO14Zmg",
        "colab_type": "code",
        "colab": {}
      },
      "source": [
        "%%time\n",
        "!pip install nmslib"
      ],
      "execution_count": 0,
      "outputs": []
    },
    {
      "cell_type": "code",
      "metadata": {
        "id": "hoRcSlTT44My",
        "colab_type": "code",
        "colab": {}
      },
      "source": [
        "%%time\n",
        "!pip install scispacy spacy"
      ],
      "execution_count": 0,
      "outputs": []
    },
    {
      "cell_type": "code",
      "metadata": {
        "id": "XlPFnwmA48Ks",
        "colab_type": "code",
        "colab": {}
      },
      "source": [
        "!pip install https://s3-us-west-2.amazonaws.com/ai2-s2-scispacy/releases/v0.2.0/en_core_sci_sm-0.2.0.tar.gz"
      ],
      "execution_count": 0,
      "outputs": []
    },
    {
      "cell_type": "code",
      "metadata": {
        "id": "tqteGvro4R6-",
        "colab_type": "code",
        "colab": {}
      },
      "source": [
        "import spacy\n",
        "import scispacy\n",
        "from scispacy.abbreviation import AbbreviationDetector\n",
        "from scispacy.umls_linking import UmlsEntityLinker"
      ],
      "execution_count": 0,
      "outputs": []
    },
    {
      "cell_type": "code",
      "metadata": {
        "id": "-gJH-R_X5Yrr",
        "colab_type": "code",
        "colab": {}
      },
      "source": [
        "nlp1 = spacy.load(\"en\")\n",
        "nlp2 = spacy.load(\"en_core_sci_md\")"
      ],
      "execution_count": 0,
      "outputs": []
    },
    {
      "cell_type": "code",
      "metadata": {
        "id": "ncq3pZ0lpOaR",
        "colab_type": "code",
        "colab": {}
      },
      "source": [
        "nlp = spacy.load(\"en_core_sci_sm\")"
      ],
      "execution_count": 0,
      "outputs": []
    },
    {
      "cell_type": "code",
      "metadata": {
        "id": "JNSCTGcRpPJA",
        "colab_type": "code",
        "colab": {}
      },
      "source": [
        "with open(r\"drive/My Drive/TweetStreams/coronavirus-tweet-id-2020-04-10-21.json\", \"r\") as file:\n",
        "    tweets_data = json.load(file)\n",
        "\n",
        "doc = nlp(tweets_data)\n",
        "drugs = []\n",
        "ds = []\n",
        "diseases = []\n",
        "for entity in doc.ents:\n",
        "    drug = entity.text\n",
        "    label = entity.label_\n",
        "    if label == \"CHEMICAL\" and drug not in drugs:\n",
        "        diseases.append(get_disease(drug))\n",
        "    elif label == \"DISEASE\" and drug not in drugs:\n",
        "        ds.append(drug)\n",
        "    drugs.append(drug)\n",
        "if len(ds):\n",
        "    diseases.append(ds)\n",
        "if len(diseases) == 1:\n",
        "    print(None)\n",
        "else:\n",
        "    return print(diseases)"
      ],
      "execution_count": 0,
      "outputs": []
    }
  ]
}