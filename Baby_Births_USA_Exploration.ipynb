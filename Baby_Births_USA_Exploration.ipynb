{
  "nbformat": 4,
  "nbformat_minor": 0,
  "metadata": {
    "colab": {
      "name": "Baby_Births_USA_Exploration.ipynb",
      "provenance": [],
      "collapsed_sections": [],
      "authorship_tag": "ABX9TyOyrwle+T+1YDTTEoyw6lQV",
      "include_colab_link": true
    },
    "kernelspec": {
      "name": "python3",
      "display_name": "Python 3"
    },
    "widgets": {
      "application/vnd.jupyter.widget-state+json": {
        "6696ca33ebac4db6813a951d6d42c09f": {
          "model_module": "@jupyter-widgets/controls",
          "model_name": "HBoxModel",
          "state": {
            "_view_name": "HBoxView",
            "_dom_classes": [],
            "_model_name": "HBoxModel",
            "_view_module": "@jupyter-widgets/controls",
            "_model_module_version": "1.5.0",
            "_view_count": null,
            "_view_module_version": "1.5.0",
            "box_style": "",
            "layout": "IPY_MODEL_e2e310a8e7554d9ab513289617cf4b77",
            "_model_module": "@jupyter-widgets/controls",
            "children": [
              "IPY_MODEL_f26651a008934a79804eaee35b2432a5",
              "IPY_MODEL_18362d4e2160401bbbb966ef63127dd8"
            ]
          }
        },
        "e2e310a8e7554d9ab513289617cf4b77": {
          "model_module": "@jupyter-widgets/base",
          "model_name": "LayoutModel",
          "state": {
            "_view_name": "LayoutView",
            "grid_template_rows": null,
            "right": null,
            "justify_content": null,
            "_view_module": "@jupyter-widgets/base",
            "overflow": null,
            "_model_module_version": "1.2.0",
            "_view_count": null,
            "flex_flow": null,
            "width": null,
            "min_width": null,
            "border": null,
            "align_items": null,
            "bottom": null,
            "_model_module": "@jupyter-widgets/base",
            "top": null,
            "grid_column": null,
            "overflow_y": null,
            "overflow_x": null,
            "grid_auto_flow": null,
            "grid_area": null,
            "grid_template_columns": null,
            "flex": null,
            "_model_name": "LayoutModel",
            "justify_items": null,
            "grid_row": null,
            "max_height": null,
            "align_content": null,
            "visibility": null,
            "align_self": null,
            "height": null,
            "min_height": null,
            "padding": null,
            "grid_auto_rows": null,
            "grid_gap": null,
            "max_width": null,
            "order": null,
            "_view_module_version": "1.2.0",
            "grid_template_areas": null,
            "object_position": null,
            "object_fit": null,
            "grid_auto_columns": null,
            "margin": null,
            "display": null,
            "left": null
          }
        },
        "f26651a008934a79804eaee35b2432a5": {
          "model_module": "@jupyter-widgets/controls",
          "model_name": "DropdownModel",
          "state": {
            "_options_labels": [
              "ALL",
              "Alabama",
              "Alaska",
              "Arizona",
              "Arkansas",
              "California",
              "Colorado",
              "Connecticut",
              "Delaware",
              "District of Columbia",
              "Florida",
              "Georgia",
              "Hawaii",
              "Idaho",
              "Illinois",
              "Indiana",
              "Iowa",
              "Kansas",
              "Kentucky",
              "Louisiana",
              "Maine",
              "Maryland",
              "Massachusetts",
              "Michigan",
              "Minnesota",
              "Mississippi",
              "Missouri",
              "Montana",
              "Nebraska",
              "Nevada",
              "New Hampshire",
              "New Jersey",
              "New Mexico",
              "New York",
              "North Carolina",
              "North Dakota",
              "Ohio",
              "Oklahoma",
              "Oregon",
              "Pennsylvania",
              "Rhode Island",
              "South Carolina",
              "South Dakota",
              "Tennessee",
              "Texas",
              "Utah",
              "Vermont",
              "Virginia",
              "Washington",
              "West Virginia",
              "Wisconsin",
              "Wyoming"
            ],
            "_view_name": "DropdownView",
            "style": "IPY_MODEL_a2f6574f0e044a668cf201401203e1de",
            "_dom_classes": [],
            "description": "",
            "_model_name": "DropdownModel",
            "index": 5,
            "_view_module": "@jupyter-widgets/controls",
            "_model_module_version": "1.5.0",
            "_view_count": null,
            "disabled": false,
            "_view_module_version": "1.5.0",
            "description_tooltip": null,
            "_model_module": "@jupyter-widgets/controls",
            "layout": "IPY_MODEL_6669294997b644c5889c2bef4d331bc7"
          }
        },
        "18362d4e2160401bbbb966ef63127dd8": {
          "model_module": "@jupyter-widgets/controls",
          "model_name": "DropdownModel",
          "state": {
            "_options_labels": [
              "ALL",
              "April",
              "August",
              "December",
              "February",
              "January",
              "July",
              "June",
              "March",
              "May",
              "November",
              "October",
              "September"
            ],
            "_view_name": "DropdownView",
            "style": "IPY_MODEL_ea583e1550534b6bbb788e3cc3d559d5",
            "_dom_classes": [],
            "description": "",
            "_model_name": "DropdownModel",
            "index": 8,
            "_view_module": "@jupyter-widgets/controls",
            "_model_module_version": "1.5.0",
            "_view_count": null,
            "disabled": false,
            "_view_module_version": "1.5.0",
            "description_tooltip": null,
            "_model_module": "@jupyter-widgets/controls",
            "layout": "IPY_MODEL_584f883698cc4cb9a1c6a20f6384b5f1"
          }
        },
        "a2f6574f0e044a668cf201401203e1de": {
          "model_module": "@jupyter-widgets/controls",
          "model_name": "DescriptionStyleModel",
          "state": {
            "_view_name": "StyleView",
            "_model_name": "DescriptionStyleModel",
            "description_width": "",
            "_view_module": "@jupyter-widgets/base",
            "_model_module_version": "1.5.0",
            "_view_count": null,
            "_view_module_version": "1.2.0",
            "_model_module": "@jupyter-widgets/controls"
          }
        },
        "6669294997b644c5889c2bef4d331bc7": {
          "model_module": "@jupyter-widgets/base",
          "model_name": "LayoutModel",
          "state": {
            "_view_name": "LayoutView",
            "grid_template_rows": null,
            "right": null,
            "justify_content": null,
            "_view_module": "@jupyter-widgets/base",
            "overflow": null,
            "_model_module_version": "1.2.0",
            "_view_count": null,
            "flex_flow": null,
            "width": null,
            "min_width": null,
            "border": null,
            "align_items": null,
            "bottom": null,
            "_model_module": "@jupyter-widgets/base",
            "top": null,
            "grid_column": null,
            "overflow_y": null,
            "overflow_x": null,
            "grid_auto_flow": null,
            "grid_area": null,
            "grid_template_columns": null,
            "flex": null,
            "_model_name": "LayoutModel",
            "justify_items": null,
            "grid_row": null,
            "max_height": null,
            "align_content": null,
            "visibility": null,
            "align_self": null,
            "height": null,
            "min_height": null,
            "padding": null,
            "grid_auto_rows": null,
            "grid_gap": null,
            "max_width": null,
            "order": null,
            "_view_module_version": "1.2.0",
            "grid_template_areas": null,
            "object_position": null,
            "object_fit": null,
            "grid_auto_columns": null,
            "margin": null,
            "display": null,
            "left": null
          }
        },
        "ea583e1550534b6bbb788e3cc3d559d5": {
          "model_module": "@jupyter-widgets/controls",
          "model_name": "DescriptionStyleModel",
          "state": {
            "_view_name": "StyleView",
            "_model_name": "DescriptionStyleModel",
            "description_width": "",
            "_view_module": "@jupyter-widgets/base",
            "_model_module_version": "1.5.0",
            "_view_count": null,
            "_view_module_version": "1.2.0",
            "_model_module": "@jupyter-widgets/controls"
          }
        },
        "584f883698cc4cb9a1c6a20f6384b5f1": {
          "model_module": "@jupyter-widgets/base",
          "model_name": "LayoutModel",
          "state": {
            "_view_name": "LayoutView",
            "grid_template_rows": null,
            "right": null,
            "justify_content": null,
            "_view_module": "@jupyter-widgets/base",
            "overflow": null,
            "_model_module_version": "1.2.0",
            "_view_count": null,
            "flex_flow": null,
            "width": null,
            "min_width": null,
            "border": null,
            "align_items": null,
            "bottom": null,
            "_model_module": "@jupyter-widgets/base",
            "top": null,
            "grid_column": null,
            "overflow_y": null,
            "overflow_x": null,
            "grid_auto_flow": null,
            "grid_area": null,
            "grid_template_columns": null,
            "flex": null,
            "_model_name": "LayoutModel",
            "justify_items": null,
            "grid_row": null,
            "max_height": null,
            "align_content": null,
            "visibility": null,
            "align_self": null,
            "height": null,
            "min_height": null,
            "padding": null,
            "grid_auto_rows": null,
            "grid_gap": null,
            "max_width": null,
            "order": null,
            "_view_module_version": "1.2.0",
            "grid_template_areas": null,
            "object_position": null,
            "object_fit": null,
            "grid_auto_columns": null,
            "margin": null,
            "display": null,
            "left": null
          }
        },
        "de4c7cf0a6434a71b16d409005a16840": {
          "model_module": "@jupyter-widgets/output",
          "model_name": "OutputModel",
          "state": {
            "_view_name": "OutputView",
            "msg_id": "",
            "_dom_classes": [],
            "_model_name": "OutputModel",
            "outputs": [
              {
                "output_type": "display_data",
                "metadata": {
                  "tags": []
                },
                "text/html": "<div>\n<style scoped>\n    .dataframe tbody tr th:only-of-type {\n        vertical-align: middle;\n    }\n\n    .dataframe tbody tr th {\n        vertical-align: top;\n    }\n\n    .dataframe thead th {\n        text-align: right;\n    }\n</style>\n<table border=\"1\" class=\"dataframe\">\n  <thead>\n    <tr style=\"text-align: right;\">\n      <th></th>\n      <th>State</th>\n      <th>County</th>\n      <th>Month</th>\n      <th>Births</th>\n    </tr>\n  </thead>\n  <tbody>\n    <tr>\n      <th>391</th>\n      <td>California</td>\n      <td>Alameda County, CA</td>\n      <td>March</td>\n      <td>1484</td>\n    </tr>\n    <tr>\n      <th>403</th>\n      <td>California</td>\n      <td>Butte County, CA</td>\n      <td>March</td>\n      <td>190</td>\n    </tr>\n    <tr>\n      <th>415</th>\n      <td>California</td>\n      <td>Contra Costa County, CA</td>\n      <td>March</td>\n      <td>1069</td>\n    </tr>\n    <tr>\n      <th>427</th>\n      <td>California</td>\n      <td>El Dorado County, CA</td>\n      <td>March</td>\n      <td>145</td>\n    </tr>\n    <tr>\n      <th>439</th>\n      <td>California</td>\n      <td>Fresno County, CA</td>\n      <td>March</td>\n      <td>1169</td>\n    </tr>\n    <tr>\n      <th>451</th>\n      <td>California</td>\n      <td>Humboldt County, CA</td>\n      <td>March</td>\n      <td>111</td>\n    </tr>\n    <tr>\n      <th>463</th>\n      <td>California</td>\n      <td>Imperial County, CA</td>\n      <td>March</td>\n      <td>214</td>\n    </tr>\n    <tr>\n      <th>475</th>\n      <td>California</td>\n      <td>Kern County, CA</td>\n      <td>March</td>\n      <td>1030</td>\n    </tr>\n    <tr>\n      <th>487</th>\n      <td>California</td>\n      <td>Kings County, CA</td>\n      <td>March</td>\n      <td>175</td>\n    </tr>\n    <tr>\n      <th>499</th>\n      <td>California</td>\n      <td>Los Angeles County, CA</td>\n      <td>March</td>\n      <td>9315</td>\n    </tr>\n    <tr>\n      <th>511</th>\n      <td>California</td>\n      <td>Madera County, CA</td>\n      <td>March</td>\n      <td>173</td>\n    </tr>\n    <tr>\n      <th>523</th>\n      <td>California</td>\n      <td>Marin County, CA</td>\n      <td>March</td>\n      <td>189</td>\n    </tr>\n    <tr>\n      <th>535</th>\n      <td>California</td>\n      <td>Merced County, CA</td>\n      <td>March</td>\n      <td>287</td>\n    </tr>\n    <tr>\n      <th>547</th>\n      <td>California</td>\n      <td>Monterey County, CA</td>\n      <td>March</td>\n      <td>482</td>\n    </tr>\n    <tr>\n      <th>559</th>\n      <td>California</td>\n      <td>Napa County, CA</td>\n      <td>March</td>\n      <td>86</td>\n    </tr>\n    <tr>\n      <th>571</th>\n      <td>California</td>\n      <td>Orange County, CA</td>\n      <td>March</td>\n      <td>2955</td>\n    </tr>\n    <tr>\n      <th>583</th>\n      <td>California</td>\n      <td>Placer County, CA</td>\n      <td>March</td>\n      <td>304</td>\n    </tr>\n    <tr>\n      <th>595</th>\n      <td>California</td>\n      <td>Riverside County, CA</td>\n      <td>March</td>\n      <td>2295</td>\n    </tr>\n    <tr>\n      <th>607</th>\n      <td>California</td>\n      <td>Sacramento County, CA</td>\n      <td>March</td>\n      <td>1602</td>\n    </tr>\n    <tr>\n      <th>619</th>\n      <td>California</td>\n      <td>San Bernardino County, CA</td>\n      <td>March</td>\n      <td>2489</td>\n    </tr>\n    <tr>\n      <th>631</th>\n      <td>California</td>\n      <td>San Diego County, CA</td>\n      <td>March</td>\n      <td>3321</td>\n    </tr>\n    <tr>\n      <th>643</th>\n      <td>California</td>\n      <td>San Francisco County, CA</td>\n      <td>March</td>\n      <td>701</td>\n    </tr>\n    <tr>\n      <th>655</th>\n      <td>California</td>\n      <td>San Joaquin County, CA</td>\n      <td>March</td>\n      <td>797</td>\n    </tr>\n    <tr>\n      <th>667</th>\n      <td>California</td>\n      <td>San Luis Obispo County, CA</td>\n      <td>March</td>\n      <td>204</td>\n    </tr>\n    <tr>\n      <th>679</th>\n      <td>California</td>\n      <td>San Mateo County, CA</td>\n      <td>March</td>\n      <td>718</td>\n    </tr>\n    <tr>\n      <th>691</th>\n      <td>California</td>\n      <td>Santa Barbara County, CA</td>\n      <td>March</td>\n      <td>473</td>\n    </tr>\n    <tr>\n      <th>703</th>\n      <td>California</td>\n      <td>Santa Clara County, CA</td>\n      <td>March</td>\n      <td>1750</td>\n    </tr>\n    <tr>\n      <th>715</th>\n      <td>California</td>\n      <td>Santa Cruz County, CA</td>\n      <td>March</td>\n      <td>207</td>\n    </tr>\n    <tr>\n      <th>727</th>\n      <td>California</td>\n      <td>Shasta County, CA</td>\n      <td>March</td>\n      <td>145</td>\n    </tr>\n    <tr>\n      <th>739</th>\n      <td>California</td>\n      <td>Solano County, CA</td>\n      <td>March</td>\n      <td>441</td>\n    </tr>\n    <tr>\n      <th>751</th>\n      <td>California</td>\n      <td>Sonoma County, CA</td>\n      <td>March</td>\n      <td>414</td>\n    </tr>\n    <tr>\n      <th>763</th>\n      <td>California</td>\n      <td>Stanislaus County, CA</td>\n      <td>March</td>\n      <td>632</td>\n    </tr>\n    <tr>\n      <th>775</th>\n      <td>California</td>\n      <td>Tulare County, CA</td>\n      <td>March</td>\n      <td>527</td>\n    </tr>\n    <tr>\n      <th>787</th>\n      <td>California</td>\n      <td>Unidentified Counties, CA</td>\n      <td>March</td>\n      <td>773</td>\n    </tr>\n    <tr>\n      <th>799</th>\n      <td>California</td>\n      <td>Ventura County, CA</td>\n      <td>March</td>\n      <td>765</td>\n    </tr>\n    <tr>\n      <th>811</th>\n      <td>California</td>\n      <td>Yolo County, CA</td>\n      <td>March</td>\n      <td>179</td>\n    </tr>\n  </tbody>\n</table>\n</div>",
                "text/plain": "          State                      County  Month  Births\n391  California          Alameda County, CA  March    1484\n403  California            Butte County, CA  March     190\n415  California     Contra Costa County, CA  March    1069\n427  California        El Dorado County, CA  March     145\n439  California           Fresno County, CA  March    1169\n451  California         Humboldt County, CA  March     111\n463  California         Imperial County, CA  March     214\n475  California             Kern County, CA  March    1030\n487  California            Kings County, CA  March     175\n499  California      Los Angeles County, CA  March    9315\n511  California           Madera County, CA  March     173\n523  California            Marin County, CA  March     189\n535  California           Merced County, CA  March     287\n547  California         Monterey County, CA  March     482\n559  California             Napa County, CA  March      86\n571  California           Orange County, CA  March    2955\n583  California           Placer County, CA  March     304\n595  California        Riverside County, CA  March    2295\n607  California       Sacramento County, CA  March    1602\n619  California   San Bernardino County, CA  March    2489\n631  California        San Diego County, CA  March    3321\n643  California    San Francisco County, CA  March     701\n655  California      San Joaquin County, CA  March     797\n667  California  San Luis Obispo County, CA  March     204\n679  California        San Mateo County, CA  March     718\n691  California    Santa Barbara County, CA  March     473\n703  California      Santa Clara County, CA  March    1750\n715  California       Santa Cruz County, CA  March     207\n727  California           Shasta County, CA  March     145\n739  California           Solano County, CA  March     441\n751  California           Sonoma County, CA  March     414\n763  California       Stanislaus County, CA  March     632\n775  California           Tulare County, CA  March     527\n787  California   Unidentified Counties, CA  March     773\n799  California          Ventura County, CA  March     765\n811  California             Yolo County, CA  March     179"
              }
            ],
            "_view_module": "@jupyter-widgets/output",
            "_model_module_version": "1.0.0",
            "_view_count": null,
            "_view_module_version": "1.0.0",
            "layout": "IPY_MODEL_b5b1e236e51e44039198f72f8347870d",
            "_model_module": "@jupyter-widgets/output"
          }
        }
      }
    }
  },
  "cells": [
    {
      "cell_type": "markdown",
      "metadata": {
        "id": "view-in-github",
        "colab_type": "text"
      },
      "source": [
        "<a href=\"https://colab.research.google.com/github/aiformankind/covid-19-hackathon/blob/master/Baby_Births_USA_Exploration.ipynb\" target=\"_parent\"><img src=\"https://colab.research.google.com/assets/colab-badge.svg\" alt=\"Open In Colab\"/></a>"
      ]
    },
    {
      "cell_type": "markdown",
      "metadata": {
        "id": "uvCZpv2VODDd",
        "colab_type": "text"
      },
      "source": [
        "Baby Births Data Exploration\n",
        "\n",
        "With the spread of Coronavirus, I am interested in exploring the number of births across counties and states. This allows us to understand the projection of number of pregnant women giving births in upcoming months across counties/states during this difficult time of Coronavirus outbreak. Hope this will help hospitals to plan accordingly.\n",
        "\n",
        "Data source: https://wonder.cdc.gov/natality-current.html"
      ]
    },
    {
      "cell_type": "code",
      "metadata": {
        "id": "iZApSQ53eMEj",
        "colab_type": "code",
        "outputId": "f4fe0813-3a2e-4d26-9b17-4b6b67fddb42",
        "colab": {
          "base_uri": "https://localhost:8080/",
          "height": 33
        }
      },
      "source": [
        "from __future__ import print_function\n",
        "\n",
        "import pandas as pd\n",
        "pd.__version__"
      ],
      "execution_count": 51,
      "outputs": [
        {
          "output_type": "execute_result",
          "data": {
            "text/plain": [
              "'0.25.3'"
            ]
          },
          "metadata": {
            "tags": []
          },
          "execution_count": 51
        }
      ]
    },
    {
      "cell_type": "code",
      "metadata": {
        "id": "v3aD01gSq7xT",
        "colab_type": "code",
        "colab": {}
      },
      "source": [
        "import pandas as pd\n",
        "baby_df = pd.read_csv('https://raw.githubusercontent.com/aiformankind/covid-19-hackathon/master/Natality_2007-2018_state_county.txt', sep='\\t')"
      ],
      "execution_count": 0,
      "outputs": []
    },
    {
      "cell_type": "code",
      "metadata": {
        "id": "bXBXnSNKHc0t",
        "colab_type": "code",
        "outputId": "8733a7cb-5d88-4770-b4e8-9e035af32dc7",
        "colab": {
          "base_uri": "https://localhost:8080/",
          "height": 570
        }
      },
      "source": [
        "baby_df"
      ],
      "execution_count": 53,
      "outputs": [
        {
          "output_type": "execute_result",
          "data": {
            "text/html": [
              "<div>\n",
              "<style scoped>\n",
              "    .dataframe tbody tr th:only-of-type {\n",
              "        vertical-align: middle;\n",
              "    }\n",
              "\n",
              "    .dataframe tbody tr th {\n",
              "        vertical-align: top;\n",
              "    }\n",
              "\n",
              "    .dataframe thead th {\n",
              "        text-align: right;\n",
              "    }\n",
              "</style>\n",
              "<table border=\"1\" class=\"dataframe\">\n",
              "  <thead>\n",
              "    <tr style=\"text-align: right;\">\n",
              "      <th></th>\n",
              "      <th>Notes</th>\n",
              "      <th>State</th>\n",
              "      <th>State Code</th>\n",
              "      <th>County</th>\n",
              "      <th>County Code</th>\n",
              "      <th>Year</th>\n",
              "      <th>Year Code</th>\n",
              "      <th>Month</th>\n",
              "      <th>Month Code</th>\n",
              "      <th>Births</th>\n",
              "      <th>Average Birth Weight</th>\n",
              "      <th>Average Age of Mother</th>\n",
              "    </tr>\n",
              "  </thead>\n",
              "  <tbody>\n",
              "    <tr>\n",
              "      <th>0</th>\n",
              "      <td>NaN</td>\n",
              "      <td>Alabama</td>\n",
              "      <td>1.0</td>\n",
              "      <td>Baldwin County, AL</td>\n",
              "      <td>1003.0</td>\n",
              "      <td>2018.0</td>\n",
              "      <td>2018.0</td>\n",
              "      <td>January</td>\n",
              "      <td>1.0</td>\n",
              "      <td>164</td>\n",
              "      <td>3272.56</td>\n",
              "      <td>27.29</td>\n",
              "    </tr>\n",
              "    <tr>\n",
              "      <th>1</th>\n",
              "      <td>NaN</td>\n",
              "      <td>Alabama</td>\n",
              "      <td>1.0</td>\n",
              "      <td>Baldwin County, AL</td>\n",
              "      <td>1003.0</td>\n",
              "      <td>2018.0</td>\n",
              "      <td>2018.0</td>\n",
              "      <td>February</td>\n",
              "      <td>2.0</td>\n",
              "      <td>167</td>\n",
              "      <td>3329.14</td>\n",
              "      <td>27.42</td>\n",
              "    </tr>\n",
              "    <tr>\n",
              "      <th>2</th>\n",
              "      <td>NaN</td>\n",
              "      <td>Alabama</td>\n",
              "      <td>1.0</td>\n",
              "      <td>Baldwin County, AL</td>\n",
              "      <td>1003.0</td>\n",
              "      <td>2018.0</td>\n",
              "      <td>2018.0</td>\n",
              "      <td>March</td>\n",
              "      <td>3.0</td>\n",
              "      <td>184</td>\n",
              "      <td>3312.30</td>\n",
              "      <td>28.96</td>\n",
              "    </tr>\n",
              "    <tr>\n",
              "      <th>3</th>\n",
              "      <td>NaN</td>\n",
              "      <td>Alabama</td>\n",
              "      <td>1.0</td>\n",
              "      <td>Baldwin County, AL</td>\n",
              "      <td>1003.0</td>\n",
              "      <td>2018.0</td>\n",
              "      <td>2018.0</td>\n",
              "      <td>April</td>\n",
              "      <td>4.0</td>\n",
              "      <td>183</td>\n",
              "      <td>3216.21</td>\n",
              "      <td>27.21</td>\n",
              "    </tr>\n",
              "    <tr>\n",
              "      <th>4</th>\n",
              "      <td>NaN</td>\n",
              "      <td>Alabama</td>\n",
              "      <td>1.0</td>\n",
              "      <td>Baldwin County, AL</td>\n",
              "      <td>1003.0</td>\n",
              "      <td>2018.0</td>\n",
              "      <td>2018.0</td>\n",
              "      <td>May</td>\n",
              "      <td>5.0</td>\n",
              "      <td>205</td>\n",
              "      <td>3253.51</td>\n",
              "      <td>27.96</td>\n",
              "    </tr>\n",
              "    <tr>\n",
              "      <th>...</th>\n",
              "      <td>...</td>\n",
              "      <td>...</td>\n",
              "      <td>...</td>\n",
              "      <td>...</td>\n",
              "      <td>...</td>\n",
              "      <td>...</td>\n",
              "      <td>...</td>\n",
              "      <td>...</td>\n",
              "      <td>...</td>\n",
              "      <td>...</td>\n",
              "      <td>...</td>\n",
              "      <td>...</td>\n",
              "    </tr>\n",
              "    <tr>\n",
              "      <th>7589</th>\n",
              "      <td>10. Bronx, New York (FIPS code 36005) represen...</td>\n",
              "      <td>NaN</td>\n",
              "      <td>NaN</td>\n",
              "      <td>NaN</td>\n",
              "      <td>NaN</td>\n",
              "      <td>NaN</td>\n",
              "      <td>NaN</td>\n",
              "      <td>NaN</td>\n",
              "      <td>NaN</td>\n",
              "      <td>NaN</td>\n",
              "      <td>NaN</td>\n",
              "      <td>NaN</td>\n",
              "    </tr>\n",
              "    <tr>\n",
              "      <th>7590</th>\n",
              "      <td>11. Kings County, New York (FIPS code 36047) r...</td>\n",
              "      <td>NaN</td>\n",
              "      <td>NaN</td>\n",
              "      <td>NaN</td>\n",
              "      <td>NaN</td>\n",
              "      <td>NaN</td>\n",
              "      <td>NaN</td>\n",
              "      <td>NaN</td>\n",
              "      <td>NaN</td>\n",
              "      <td>NaN</td>\n",
              "      <td>NaN</td>\n",
              "      <td>NaN</td>\n",
              "    </tr>\n",
              "    <tr>\n",
              "      <th>7591</th>\n",
              "      <td>12. New York County, New York (FIPS code 36061...</td>\n",
              "      <td>NaN</td>\n",
              "      <td>NaN</td>\n",
              "      <td>NaN</td>\n",
              "      <td>NaN</td>\n",
              "      <td>NaN</td>\n",
              "      <td>NaN</td>\n",
              "      <td>NaN</td>\n",
              "      <td>NaN</td>\n",
              "      <td>NaN</td>\n",
              "      <td>NaN</td>\n",
              "      <td>NaN</td>\n",
              "    </tr>\n",
              "    <tr>\n",
              "      <th>7592</th>\n",
              "      <td>13. Queens, New York (FIPS code 36081) represe...</td>\n",
              "      <td>NaN</td>\n",
              "      <td>NaN</td>\n",
              "      <td>NaN</td>\n",
              "      <td>NaN</td>\n",
              "      <td>NaN</td>\n",
              "      <td>NaN</td>\n",
              "      <td>NaN</td>\n",
              "      <td>NaN</td>\n",
              "      <td>NaN</td>\n",
              "      <td>NaN</td>\n",
              "      <td>NaN</td>\n",
              "    </tr>\n",
              "    <tr>\n",
              "      <th>7593</th>\n",
              "      <td>14. Richmond County, New York (FIPS code 36085...</td>\n",
              "      <td>NaN</td>\n",
              "      <td>NaN</td>\n",
              "      <td>NaN</td>\n",
              "      <td>NaN</td>\n",
              "      <td>NaN</td>\n",
              "      <td>NaN</td>\n",
              "      <td>NaN</td>\n",
              "      <td>NaN</td>\n",
              "      <td>NaN</td>\n",
              "      <td>NaN</td>\n",
              "      <td>NaN</td>\n",
              "    </tr>\n",
              "  </tbody>\n",
              "</table>\n",
              "<p>7594 rows × 12 columns</p>\n",
              "</div>"
            ],
            "text/plain": [
              "                                                  Notes  ... Average Age of Mother\n",
              "0                                                   NaN  ...                 27.29\n",
              "1                                                   NaN  ...                 27.42\n",
              "2                                                   NaN  ...                 28.96\n",
              "3                                                   NaN  ...                 27.21\n",
              "4                                                   NaN  ...                 27.96\n",
              "...                                                 ...  ...                   ...\n",
              "7589  10. Bronx, New York (FIPS code 36005) represen...  ...                   NaN\n",
              "7590  11. Kings County, New York (FIPS code 36047) r...  ...                   NaN\n",
              "7591  12. New York County, New York (FIPS code 36061...  ...                   NaN\n",
              "7592  13. Queens, New York (FIPS code 36081) represe...  ...                   NaN\n",
              "7593  14. Richmond County, New York (FIPS code 36085...  ...                   NaN\n",
              "\n",
              "[7594 rows x 12 columns]"
            ]
          },
          "metadata": {
            "tags": []
          },
          "execution_count": 53
        }
      ]
    },
    {
      "cell_type": "code",
      "metadata": {
        "id": "YeWjNPwZJrue",
        "colab_type": "code",
        "colab": {}
      },
      "source": [
        "baby_df = baby_df[baby_df.Births.str.match(r'\\d')==True]"
      ],
      "execution_count": 0,
      "outputs": []
    },
    {
      "cell_type": "code",
      "metadata": {
        "id": "8qs7VoQIOlv5",
        "colab_type": "code",
        "colab": {}
      },
      "source": [
        "baby_df['Births']=pd.to_numeric(baby_df['Births'])"
      ],
      "execution_count": 0,
      "outputs": []
    },
    {
      "cell_type": "code",
      "metadata": {
        "id": "-_cOrLSEUk1z",
        "colab_type": "code",
        "outputId": "b62746f9-a6e3-4433-a96d-27f345f28b04",
        "colab": {
          "base_uri": "https://localhost:8080/",
          "height": 228
        }
      },
      "source": [
        "baby_df.dtypes"
      ],
      "execution_count": 56,
      "outputs": [
        {
          "output_type": "execute_result",
          "data": {
            "text/plain": [
              "Notes                     object\n",
              "State                     object\n",
              "State Code               float64\n",
              "County                    object\n",
              "County Code              float64\n",
              "Year                     float64\n",
              "Year Code                float64\n",
              "Month                     object\n",
              "Month Code               float64\n",
              "Births                     int64\n",
              "Average Birth Weight      object\n",
              "Average Age of Mother     object\n",
              "dtype: object"
            ]
          },
          "metadata": {
            "tags": []
          },
          "execution_count": 56
        }
      ]
    },
    {
      "cell_type": "code",
      "metadata": {
        "id": "uNk6pYqQKocC",
        "colab_type": "code",
        "outputId": "c8a529cc-1c4f-4a1b-f4d8-427020a1e62a",
        "colab": {
          "base_uri": "https://localhost:8080/",
          "height": 33
        }
      },
      "source": [
        "baby_df.Year.unique()"
      ],
      "execution_count": 57,
      "outputs": [
        {
          "output_type": "execute_result",
          "data": {
            "text/plain": [
              "array([2018.])"
            ]
          },
          "metadata": {
            "tags": []
          },
          "execution_count": 57
        }
      ]
    },
    {
      "cell_type": "code",
      "metadata": {
        "id": "LXPx2DmLME9z",
        "colab_type": "code",
        "outputId": "68dd3e82-2f42-4672-aa5d-aa818af11fa1",
        "colab": {
          "base_uri": "https://localhost:8080/",
          "height": 82
        }
      },
      "source": [
        "baby_df.columns"
      ],
      "execution_count": 58,
      "outputs": [
        {
          "output_type": "execute_result",
          "data": {
            "text/plain": [
              "Index(['Notes', 'State', 'State Code', 'County', 'County Code', 'Year',\n",
              "       'Year Code', 'Month', 'Month Code', 'Births', 'Average Birth Weight',\n",
              "       'Average Age of Mother'],\n",
              "      dtype='object')"
            ]
          },
          "metadata": {
            "tags": []
          },
          "execution_count": 58
        }
      ]
    },
    {
      "cell_type": "code",
      "metadata": {
        "id": "oGaCfqen73vG",
        "colab_type": "code",
        "colab": {}
      },
      "source": [
        "baby_by_state = baby_df.groupby(['State'])['Births'].sum()\n",
        "sorted_baby_by_state = baby_by_state.sort_values(ascending = False)"
      ],
      "execution_count": 0,
      "outputs": []
    },
    {
      "cell_type": "markdown",
      "metadata": {
        "id": "53WxHHUTzOdj",
        "colab_type": "text"
      },
      "source": [
        "**California has the largest number of births in the USA, followed by Texas and New York.**"
      ]
    },
    {
      "cell_type": "code",
      "metadata": {
        "id": "yRKYHkqU9HMf",
        "colab_type": "code",
        "outputId": "51840d36-cf8a-4c34-c223-5b3a9395655f",
        "colab": {
          "base_uri": "https://localhost:8080/",
          "height": 625
        }
      },
      "source": [
        "import matplotlib.pyplot as plt\n",
        "\n",
        "fig, ax = plt.subplots(figsize=(15,7))\n",
        "sorted_baby_by_state.plot.bar(ax=ax)\n",
        "ax.set_xlabel('State', fontsize=14)\n",
        "ax.set_title('Number of Births vs State')\n",
        "ax.set_ylabel('Number of Births', fontsize=14)\n",
        "plt.xticks(fontsize=14, rotation=90)\n",
        "plt.yticks(fontsize=14)"
      ],
      "execution_count": 60,
      "outputs": [
        {
          "output_type": "execute_result",
          "data": {
            "text/plain": [
              "(array([     0., 100000., 200000., 300000., 400000., 500000.]),\n",
              " <a list of 6 Text major ticklabel objects>)"
            ]
          },
          "metadata": {
            "tags": []
          },
          "execution_count": 60
        },
        {
          "output_type": "display_data",
          "data": {
            "image/png": "[encoded data removed]",
            "text/plain": [
              "<Figure size 1080x504 with 1 Axes>"
            ]
          },
          "metadata": {
            "tags": []
          }
        }
      ]
    },
    {
      "cell_type": "markdown",
      "metadata": {
        "id": "xPfgqdsozgaO",
        "colab_type": "text"
      },
      "source": [
        "**July and August have the most number of births.**"
      ]
    },
    {
      "cell_type": "code",
      "metadata": {
        "id": "UbRgRjYJf-Wb",
        "colab_type": "code",
        "outputId": "732d7a25-2126-4f0c-9801-0dd2987ccb6f",
        "colab": {
          "base_uri": "https://localhost:8080/",
          "height": 245
        }
      },
      "source": [
        "baby_by_month = baby_df.groupby(['Month'])['Births'].sum()\n",
        "baby_by_month"
      ],
      "execution_count": 61,
      "outputs": [
        {
          "output_type": "execute_result",
          "data": {
            "text/plain": [
              "Month\n",
              "April        298394\n",
              "August       344750\n",
              "December     310766\n",
              "February     284250\n",
              "January      314808\n",
              "July         329009\n",
              "June         314816\n",
              "March        316044\n",
              "May          320622\n",
              "November     308703\n",
              "October      326778\n",
              "September    322772\n",
              "Name: Births, dtype: int64"
            ]
          },
          "metadata": {
            "tags": []
          },
          "execution_count": 61
        }
      ]
    },
    {
      "cell_type": "code",
      "metadata": {
        "id": "5tlvFfCbgLEG",
        "colab_type": "code",
        "outputId": "385e4785-ca87-4fe6-9fb9-7cf83132fde2",
        "colab": {
          "base_uri": "https://localhost:8080/",
          "height": 562
        }
      },
      "source": [
        "import matplotlib.pyplot as plt\n",
        "\n",
        "fig, ax = plt.subplots(figsize=(15,7))\n",
        "#sorted_icu_beds_grouped_by_county.iloc[0:15].plot.bar(ax=ax)\n",
        "baby_by_month.sort_values(ascending=True).plot.bar(ax=ax)\n",
        "ax.set_xlabel('Month', fontsize=14)\n",
        "ax.set_title('Number of Births vs Month')\n",
        "ax.set_ylabel('Number of Births', fontsize=14)\n",
        "plt.xticks(fontsize=14, rotation=90)\n",
        "plt.yticks(fontsize=14)"
      ],
      "execution_count": 62,
      "outputs": [
        {
          "output_type": "execute_result",
          "data": {
            "text/plain": [
              "(array([     0.,  50000., 100000., 150000., 200000., 250000., 300000.,\n",
              "        350000., 400000.]), <a list of 9 Text major ticklabel objects>)"
            ]
          },
          "metadata": {
            "tags": []
          },
          "execution_count": 62
        },
        {
          "output_type": "display_data",
          "data": {
            "image/png": "[encoded data removed]",
            "text/plain": [
              "<Figure size 1080x504 with 1 Axes>"
            ]
          },
          "metadata": {
            "tags": []
          }
        }
      ]
    },
    {
      "cell_type": "code",
      "metadata": {
        "id": "vd9xxEKYiK8r",
        "colab_type": "code",
        "outputId": "13c90ce9-032c-40d8-8931-127b163be81e",
        "colab": {
          "base_uri": "https://localhost:8080/",
          "height": 391
        }
      },
      "source": [
        "baby_by_state_county_month = baby_df.groupby(['State','County','Month'], as_index=False)['Births'].sum()\n",
        "baby_by_state_county_month"
      ],
      "execution_count": 63,
      "outputs": [
        {
          "output_type": "execute_result",
          "data": {
            "text/html": [
              "<div>\n",
              "<style scoped>\n",
              "    .dataframe tbody tr th:only-of-type {\n",
              "        vertical-align: middle;\n",
              "    }\n",
              "\n",
              "    .dataframe tbody tr th {\n",
              "        vertical-align: top;\n",
              "    }\n",
              "\n",
              "    .dataframe thead th {\n",
              "        text-align: right;\n",
              "    }\n",
              "</style>\n",
              "<table border=\"1\" class=\"dataframe\">\n",
              "  <thead>\n",
              "    <tr style=\"text-align: right;\">\n",
              "      <th></th>\n",
              "      <th>State</th>\n",
              "      <th>County</th>\n",
              "      <th>Month</th>\n",
              "      <th>Births</th>\n",
              "    </tr>\n",
              "  </thead>\n",
              "  <tbody>\n",
              "    <tr>\n",
              "      <th>0</th>\n",
              "      <td>Alabama</td>\n",
              "      <td>Baldwin County, AL</td>\n",
              "      <td>April</td>\n",
              "      <td>183</td>\n",
              "    </tr>\n",
              "    <tr>\n",
              "      <th>1</th>\n",
              "      <td>Alabama</td>\n",
              "      <td>Baldwin County, AL</td>\n",
              "      <td>August</td>\n",
              "      <td>202</td>\n",
              "    </tr>\n",
              "    <tr>\n",
              "      <th>2</th>\n",
              "      <td>Alabama</td>\n",
              "      <td>Baldwin County, AL</td>\n",
              "      <td>December</td>\n",
              "      <td>193</td>\n",
              "    </tr>\n",
              "    <tr>\n",
              "      <th>3</th>\n",
              "      <td>Alabama</td>\n",
              "      <td>Baldwin County, AL</td>\n",
              "      <td>February</td>\n",
              "      <td>167</td>\n",
              "    </tr>\n",
              "    <tr>\n",
              "      <th>4</th>\n",
              "      <td>Alabama</td>\n",
              "      <td>Baldwin County, AL</td>\n",
              "      <td>January</td>\n",
              "      <td>164</td>\n",
              "    </tr>\n",
              "    <tr>\n",
              "      <th>...</th>\n",
              "      <td>...</td>\n",
              "      <td>...</td>\n",
              "      <td>...</td>\n",
              "      <td>...</td>\n",
              "    </tr>\n",
              "    <tr>\n",
              "      <th>7507</th>\n",
              "      <td>Wyoming</td>\n",
              "      <td>Unidentified Counties, WY</td>\n",
              "      <td>March</td>\n",
              "      <td>560</td>\n",
              "    </tr>\n",
              "    <tr>\n",
              "      <th>7508</th>\n",
              "      <td>Wyoming</td>\n",
              "      <td>Unidentified Counties, WY</td>\n",
              "      <td>May</td>\n",
              "      <td>609</td>\n",
              "    </tr>\n",
              "    <tr>\n",
              "      <th>7509</th>\n",
              "      <td>Wyoming</td>\n",
              "      <td>Unidentified Counties, WY</td>\n",
              "      <td>November</td>\n",
              "      <td>514</td>\n",
              "    </tr>\n",
              "    <tr>\n",
              "      <th>7510</th>\n",
              "      <td>Wyoming</td>\n",
              "      <td>Unidentified Counties, WY</td>\n",
              "      <td>October</td>\n",
              "      <td>542</td>\n",
              "    </tr>\n",
              "    <tr>\n",
              "      <th>7511</th>\n",
              "      <td>Wyoming</td>\n",
              "      <td>Unidentified Counties, WY</td>\n",
              "      <td>September</td>\n",
              "      <td>543</td>\n",
              "    </tr>\n",
              "  </tbody>\n",
              "</table>\n",
              "<p>7512 rows × 4 columns</p>\n",
              "</div>"
            ],
            "text/plain": [
              "        State                     County      Month  Births\n",
              "0     Alabama         Baldwin County, AL      April     183\n",
              "1     Alabama         Baldwin County, AL     August     202\n",
              "2     Alabama         Baldwin County, AL   December     193\n",
              "3     Alabama         Baldwin County, AL   February     167\n",
              "4     Alabama         Baldwin County, AL    January     164\n",
              "...       ...                        ...        ...     ...\n",
              "7507  Wyoming  Unidentified Counties, WY      March     560\n",
              "7508  Wyoming  Unidentified Counties, WY        May     609\n",
              "7509  Wyoming  Unidentified Counties, WY   November     514\n",
              "7510  Wyoming  Unidentified Counties, WY    October     542\n",
              "7511  Wyoming  Unidentified Counties, WY  September     543\n",
              "\n",
              "[7512 rows x 4 columns]"
            ]
          },
          "metadata": {
            "tags": []
          },
          "execution_count": 63
        }
      ]
    },
    {
      "cell_type": "markdown",
      "metadata": {
        "id": "3lGYeJtE0Eqp",
        "colab_type": "text"
      },
      "source": [
        "**For California in the month of March, Los Angeles County has the most Births, 9315**\n",
        "\n",
        "**Santa Clara County has 1750 Births in March**"
      ]
    },
    {
      "cell_type": "code",
      "metadata": {
        "id": "CukZD5EOnBMp",
        "colab_type": "code",
        "outputId": "a62704e6-40a0-4b3d-bb18-a3c76e128fe8",
        "colab": {
          "base_uri": "https://localhost:8080/",
          "height": 1000
        }
      },
      "source": [
        "baby_california_march = baby_by_state_county_month[(baby_by_state_county_month['State'] == 'California') & (baby_by_state_county_month['Month'] == 'March')]\n",
        "baby_california_march_sorted = baby_california_march[['County','Births']].sort_values(by='Births',ascending=False)\n",
        "baby_california_march_sorted"
      ],
      "execution_count": 64,
      "outputs": [
        {
          "output_type": "execute_result",
          "data": {
            "text/html": [
              "<div>\n",
              "<style scoped>\n",
              "    .dataframe tbody tr th:only-of-type {\n",
              "        vertical-align: middle;\n",
              "    }\n",
              "\n",
              "    .dataframe tbody tr th {\n",
              "        vertical-align: top;\n",
              "    }\n",
              "\n",
              "    .dataframe thead th {\n",
              "        text-align: right;\n",
              "    }\n",
              "</style>\n",
              "<table border=\"1\" class=\"dataframe\">\n",
              "  <thead>\n",
              "    <tr style=\"text-align: right;\">\n",
              "      <th></th>\n",
              "      <th>County</th>\n",
              "      <th>Births</th>\n",
              "    </tr>\n",
              "  </thead>\n",
              "  <tbody>\n",
              "    <tr>\n",
              "      <th>499</th>\n",
              "      <td>Los Angeles County, CA</td>\n",
              "      <td>9315</td>\n",
              "    </tr>\n",
              "    <tr>\n",
              "      <th>631</th>\n",
              "      <td>San Diego County, CA</td>\n",
              "      <td>3321</td>\n",
              "    </tr>\n",
              "    <tr>\n",
              "      <th>571</th>\n",
              "      <td>Orange County, CA</td>\n",
              "      <td>2955</td>\n",
              "    </tr>\n",
              "    <tr>\n",
              "      <th>619</th>\n",
              "      <td>San Bernardino County, CA</td>\n",
              "      <td>2489</td>\n",
              "    </tr>\n",
              "    <tr>\n",
              "      <th>595</th>\n",
              "      <td>Riverside County, CA</td>\n",
              "      <td>2295</td>\n",
              "    </tr>\n",
              "    <tr>\n",
              "      <th>703</th>\n",
              "      <td>Santa Clara County, CA</td>\n",
              "      <td>1750</td>\n",
              "    </tr>\n",
              "    <tr>\n",
              "      <th>607</th>\n",
              "      <td>Sacramento County, CA</td>\n",
              "      <td>1602</td>\n",
              "    </tr>\n",
              "    <tr>\n",
              "      <th>391</th>\n",
              "      <td>Alameda County, CA</td>\n",
              "      <td>1484</td>\n",
              "    </tr>\n",
              "    <tr>\n",
              "      <th>439</th>\n",
              "      <td>Fresno County, CA</td>\n",
              "      <td>1169</td>\n",
              "    </tr>\n",
              "    <tr>\n",
              "      <th>415</th>\n",
              "      <td>Contra Costa County, CA</td>\n",
              "      <td>1069</td>\n",
              "    </tr>\n",
              "    <tr>\n",
              "      <th>475</th>\n",
              "      <td>Kern County, CA</td>\n",
              "      <td>1030</td>\n",
              "    </tr>\n",
              "    <tr>\n",
              "      <th>655</th>\n",
              "      <td>San Joaquin County, CA</td>\n",
              "      <td>797</td>\n",
              "    </tr>\n",
              "    <tr>\n",
              "      <th>787</th>\n",
              "      <td>Unidentified Counties, CA</td>\n",
              "      <td>773</td>\n",
              "    </tr>\n",
              "    <tr>\n",
              "      <th>799</th>\n",
              "      <td>Ventura County, CA</td>\n",
              "      <td>765</td>\n",
              "    </tr>\n",
              "    <tr>\n",
              "      <th>679</th>\n",
              "      <td>San Mateo County, CA</td>\n",
              "      <td>718</td>\n",
              "    </tr>\n",
              "    <tr>\n",
              "      <th>643</th>\n",
              "      <td>San Francisco County, CA</td>\n",
              "      <td>701</td>\n",
              "    </tr>\n",
              "    <tr>\n",
              "      <th>763</th>\n",
              "      <td>Stanislaus County, CA</td>\n",
              "      <td>632</td>\n",
              "    </tr>\n",
              "    <tr>\n",
              "      <th>775</th>\n",
              "      <td>Tulare County, CA</td>\n",
              "      <td>527</td>\n",
              "    </tr>\n",
              "    <tr>\n",
              "      <th>547</th>\n",
              "      <td>Monterey County, CA</td>\n",
              "      <td>482</td>\n",
              "    </tr>\n",
              "    <tr>\n",
              "      <th>691</th>\n",
              "      <td>Santa Barbara County, CA</td>\n",
              "      <td>473</td>\n",
              "    </tr>\n",
              "    <tr>\n",
              "      <th>739</th>\n",
              "      <td>Solano County, CA</td>\n",
              "      <td>441</td>\n",
              "    </tr>\n",
              "    <tr>\n",
              "      <th>751</th>\n",
              "      <td>Sonoma County, CA</td>\n",
              "      <td>414</td>\n",
              "    </tr>\n",
              "    <tr>\n",
              "      <th>583</th>\n",
              "      <td>Placer County, CA</td>\n",
              "      <td>304</td>\n",
              "    </tr>\n",
              "    <tr>\n",
              "      <th>535</th>\n",
              "      <td>Merced County, CA</td>\n",
              "      <td>287</td>\n",
              "    </tr>\n",
              "    <tr>\n",
              "      <th>463</th>\n",
              "      <td>Imperial County, CA</td>\n",
              "      <td>214</td>\n",
              "    </tr>\n",
              "    <tr>\n",
              "      <th>715</th>\n",
              "      <td>Santa Cruz County, CA</td>\n",
              "      <td>207</td>\n",
              "    </tr>\n",
              "    <tr>\n",
              "      <th>667</th>\n",
              "      <td>San Luis Obispo County, CA</td>\n",
              "      <td>204</td>\n",
              "    </tr>\n",
              "    <tr>\n",
              "      <th>403</th>\n",
              "      <td>Butte County, CA</td>\n",
              "      <td>190</td>\n",
              "    </tr>\n",
              "    <tr>\n",
              "      <th>523</th>\n",
              "      <td>Marin County, CA</td>\n",
              "      <td>189</td>\n",
              "    </tr>\n",
              "    <tr>\n",
              "      <th>811</th>\n",
              "      <td>Yolo County, CA</td>\n",
              "      <td>179</td>\n",
              "    </tr>\n",
              "    <tr>\n",
              "      <th>487</th>\n",
              "      <td>Kings County, CA</td>\n",
              "      <td>175</td>\n",
              "    </tr>\n",
              "    <tr>\n",
              "      <th>511</th>\n",
              "      <td>Madera County, CA</td>\n",
              "      <td>173</td>\n",
              "    </tr>\n",
              "    <tr>\n",
              "      <th>727</th>\n",
              "      <td>Shasta County, CA</td>\n",
              "      <td>145</td>\n",
              "    </tr>\n",
              "    <tr>\n",
              "      <th>427</th>\n",
              "      <td>El Dorado County, CA</td>\n",
              "      <td>145</td>\n",
              "    </tr>\n",
              "    <tr>\n",
              "      <th>451</th>\n",
              "      <td>Humboldt County, CA</td>\n",
              "      <td>111</td>\n",
              "    </tr>\n",
              "    <tr>\n",
              "      <th>559</th>\n",
              "      <td>Napa County, CA</td>\n",
              "      <td>86</td>\n",
              "    </tr>\n",
              "  </tbody>\n",
              "</table>\n",
              "</div>"
            ],
            "text/plain": [
              "                         County  Births\n",
              "499      Los Angeles County, CA    9315\n",
              "631        San Diego County, CA    3321\n",
              "571           Orange County, CA    2955\n",
              "619   San Bernardino County, CA    2489\n",
              "595        Riverside County, CA    2295\n",
              "703      Santa Clara County, CA    1750\n",
              "607       Sacramento County, CA    1602\n",
              "391          Alameda County, CA    1484\n",
              "439           Fresno County, CA    1169\n",
              "415     Contra Costa County, CA    1069\n",
              "475             Kern County, CA    1030\n",
              "655      San Joaquin County, CA     797\n",
              "787   Unidentified Counties, CA     773\n",
              "799          Ventura County, CA     765\n",
              "679        San Mateo County, CA     718\n",
              "643    San Francisco County, CA     701\n",
              "763       Stanislaus County, CA     632\n",
              "775           Tulare County, CA     527\n",
              "547         Monterey County, CA     482\n",
              "691    Santa Barbara County, CA     473\n",
              "739           Solano County, CA     441\n",
              "751           Sonoma County, CA     414\n",
              "583           Placer County, CA     304\n",
              "535           Merced County, CA     287\n",
              "463         Imperial County, CA     214\n",
              "715       Santa Cruz County, CA     207\n",
              "667  San Luis Obispo County, CA     204\n",
              "403            Butte County, CA     190\n",
              "523            Marin County, CA     189\n",
              "811             Yolo County, CA     179\n",
              "487            Kings County, CA     175\n",
              "511           Madera County, CA     173\n",
              "727           Shasta County, CA     145\n",
              "427        El Dorado County, CA     145\n",
              "451         Humboldt County, CA     111\n",
              "559             Napa County, CA      86"
            ]
          },
          "metadata": {
            "tags": []
          },
          "execution_count": 64
        }
      ]
    },
    {
      "cell_type": "code",
      "metadata": {
        "id": "HOiKcrIfhyZL",
        "colab_type": "code",
        "outputId": "36e287a8-f5fe-48c7-a230-2660933e56c9",
        "colab": {
          "base_uri": "https://localhost:8080/",
          "height": 680
        }
      },
      "source": [
        "import matplotlib.pyplot as plt\n",
        "\n",
        "fig, ax = plt.subplots(figsize=(15,7))\n",
        "baby_california_march_sorted.plot.bar(x='County', ax=ax)\n",
        "ax.set_xlabel('County', fontsize=14)\n",
        "ax.set_title('Number of Births vs County in CA (March 2018)')\n",
        "ax.set_ylabel('Number of Births', fontsize=14)\n",
        "plt.xticks(fontsize=14, rotation=90)\n",
        "plt.yticks(fontsize=14)"
      ],
      "execution_count": 71,
      "outputs": [
        {
          "output_type": "execute_result",
          "data": {
            "text/plain": [
              "(array([    0.,  2000.,  4000.,  6000.,  8000., 10000.]),\n",
              " <a list of 6 Text major ticklabel objects>)"
            ]
          },
          "metadata": {
            "tags": []
          },
          "execution_count": 71
        },
        {
          "output_type": "display_data",
          "data": {
            "image/png": "[encoded data removed]",
            "text/plain": [
              "<Figure size 1080x504 with 1 Axes>"
            ]
          },
          "metadata": {
            "tags": []
          }
        }
      ]
    },
    {
      "cell_type": "code",
      "metadata": {
        "id": "Z6v67ZiN2Lba",
        "colab_type": "code",
        "outputId": "baf1c10a-c5b6-402f-8750-15570da3f3c9",
        "colab": {
          "base_uri": "https://localhost:8080/",
          "height": 606
        }
      },
      "source": [
        "!pip install ipywidgets"
      ],
      "execution_count": 66,
      "outputs": [
        {
          "output_type": "stream",
          "text": [
            "Requirement already satisfied: ipywidgets in /usr/local/lib/python3.6/dist-packages (7.5.1)\n",
            "Requirement already satisfied: ipykernel>=4.5.1 in /usr/local/lib/python3.6/dist-packages (from ipywidgets) (4.6.1)\n",
            "Requirement already satisfied: ipython>=4.0.0; python_version >= \"3.3\" in /usr/local/lib/python3.6/dist-packages (from ipywidgets) (5.5.0)\n",
            "Requirement already satisfied: traitlets>=4.3.1 in /usr/local/lib/python3.6/dist-packages (from ipywidgets) (4.3.3)\n",
            "Requirement already satisfied: nbformat>=4.2.0 in /usr/local/lib/python3.6/dist-packages (from ipywidgets) (5.0.4)\n",
            "Requirement already satisfied: widgetsnbextension~=3.5.0 in /usr/local/lib/python3.6/dist-packages (from ipywidgets) (3.5.1)\n",
            "Requirement already satisfied: jupyter-client in /usr/local/lib/python3.6/dist-packages (from ipykernel>=4.5.1->ipywidgets) (5.3.4)\n",
            "Requirement already satisfied: tornado>=4.0 in /usr/local/lib/python3.6/dist-packages (from ipykernel>=4.5.1->ipywidgets) (4.5.3)\n",
            "Requirement already satisfied: pexpect; sys_platform != \"win32\" in /usr/local/lib/python3.6/dist-packages (from ipython>=4.0.0; python_version >= \"3.3\"->ipywidgets) (4.8.0)\n",
            "Requirement already satisfied: prompt-toolkit<2.0.0,>=1.0.4 in /usr/local/lib/python3.6/dist-packages (from ipython>=4.0.0; python_version >= \"3.3\"->ipywidgets) (1.0.18)\n",
            "Requirement already satisfied: pygments in /usr/local/lib/python3.6/dist-packages (from ipython>=4.0.0; python_version >= \"3.3\"->ipywidgets) (2.1.3)\n",
            "Requirement already satisfied: setuptools>=18.5 in /usr/local/lib/python3.6/dist-packages (from ipython>=4.0.0; python_version >= \"3.3\"->ipywidgets) (46.0.0)\n",
            "Requirement already satisfied: decorator in /usr/local/lib/python3.6/dist-packages (from ipython>=4.0.0; python_version >= \"3.3\"->ipywidgets) (4.4.2)\n",
            "Requirement already satisfied: pickleshare in /usr/local/lib/python3.6/dist-packages (from ipython>=4.0.0; python_version >= \"3.3\"->ipywidgets) (0.7.5)\n",
            "Requirement already satisfied: simplegeneric>0.8 in /usr/local/lib/python3.6/dist-packages (from ipython>=4.0.0; python_version >= \"3.3\"->ipywidgets) (0.8.1)\n",
            "Requirement already satisfied: ipython-genutils in /usr/local/lib/python3.6/dist-packages (from traitlets>=4.3.1->ipywidgets) (0.2.0)\n",
            "Requirement already satisfied: six in /usr/local/lib/python3.6/dist-packages (from traitlets>=4.3.1->ipywidgets) (1.12.0)\n",
            "Requirement already satisfied: jupyter-core in /usr/local/lib/python3.6/dist-packages (from nbformat>=4.2.0->ipywidgets) (4.6.3)\n",
            "Requirement already satisfied: jsonschema!=2.5.0,>=2.4 in /usr/local/lib/python3.6/dist-packages (from nbformat>=4.2.0->ipywidgets) (2.6.0)\n",
            "Requirement already satisfied: notebook>=4.4.1 in /usr/local/lib/python3.6/dist-packages (from widgetsnbextension~=3.5.0->ipywidgets) (5.2.2)\n",
            "Requirement already satisfied: pyzmq>=13 in /usr/local/lib/python3.6/dist-packages (from jupyter-client->ipykernel>=4.5.1->ipywidgets) (17.0.0)\n",
            "Requirement already satisfied: python-dateutil>=2.1 in /usr/local/lib/python3.6/dist-packages (from jupyter-client->ipykernel>=4.5.1->ipywidgets) (2.8.1)\n",
            "Requirement already satisfied: ptyprocess>=0.5 in /usr/local/lib/python3.6/dist-packages (from pexpect; sys_platform != \"win32\"->ipython>=4.0.0; python_version >= \"3.3\"->ipywidgets) (0.6.0)\n",
            "Requirement already satisfied: wcwidth in /usr/local/lib/python3.6/dist-packages (from prompt-toolkit<2.0.0,>=1.0.4->ipython>=4.0.0; python_version >= \"3.3\"->ipywidgets) (0.1.8)\n",
            "Requirement already satisfied: jinja2 in /usr/local/lib/python3.6/dist-packages (from notebook>=4.4.1->widgetsnbextension~=3.5.0->ipywidgets) (2.11.1)\n",
            "Requirement already satisfied: nbconvert in /usr/local/lib/python3.6/dist-packages (from notebook>=4.4.1->widgetsnbextension~=3.5.0->ipywidgets) (5.6.1)\n",
            "Requirement already satisfied: terminado>=0.3.3; sys_platform != \"win32\" in /usr/local/lib/python3.6/dist-packages (from notebook>=4.4.1->widgetsnbextension~=3.5.0->ipywidgets) (0.8.3)\n",
            "Requirement already satisfied: MarkupSafe>=0.23 in /usr/local/lib/python3.6/dist-packages (from jinja2->notebook>=4.4.1->widgetsnbextension~=3.5.0->ipywidgets) (1.1.1)\n",
            "Requirement already satisfied: entrypoints>=0.2.2 in /usr/local/lib/python3.6/dist-packages (from nbconvert->notebook>=4.4.1->widgetsnbextension~=3.5.0->ipywidgets) (0.3)\n",
            "Requirement already satisfied: bleach in /usr/local/lib/python3.6/dist-packages (from nbconvert->notebook>=4.4.1->widgetsnbextension~=3.5.0->ipywidgets) (3.1.3)\n",
            "Requirement already satisfied: pandocfilters>=1.4.1 in /usr/local/lib/python3.6/dist-packages (from nbconvert->notebook>=4.4.1->widgetsnbextension~=3.5.0->ipywidgets) (1.4.2)\n",
            "Requirement already satisfied: defusedxml in /usr/local/lib/python3.6/dist-packages (from nbconvert->notebook>=4.4.1->widgetsnbextension~=3.5.0->ipywidgets) (0.6.0)\n",
            "Requirement already satisfied: mistune<2,>=0.8.1 in /usr/local/lib/python3.6/dist-packages (from nbconvert->notebook>=4.4.1->widgetsnbextension~=3.5.0->ipywidgets) (0.8.4)\n",
            "Requirement already satisfied: testpath in /usr/local/lib/python3.6/dist-packages (from nbconvert->notebook>=4.4.1->widgetsnbextension~=3.5.0->ipywidgets) (0.4.4)\n",
            "Requirement already satisfied: webencodings in /usr/local/lib/python3.6/dist-packages (from bleach->nbconvert->notebook>=4.4.1->widgetsnbextension~=3.5.0->ipywidgets) (0.5.1)\n"
          ],
          "name": "stdout"
        }
      ]
    },
    {
      "cell_type": "markdown",
      "metadata": {
        "id": "XO0_RdQHsNU4",
        "colab_type": "text"
      },
      "source": [
        "This is a great resource on using widgets.\n",
        "https://towardsdatascience.com/bring-your-jupyter-notebook-to-life-with-interactive-widgets-bc12e03f0916\n",
        "\n",
        "We adapted and used some sample codes from the article."
      ]
    },
    {
      "cell_type": "code",
      "metadata": {
        "id": "418-thytuY52",
        "colab_type": "code",
        "colab": {}
      },
      "source": [
        "ALL = 'ALL'\n",
        "def prepare_list(array):\n",
        "    unique = array.unique().tolist()\n",
        "    unique.sort()\n",
        "    unique.insert(0, ALL)\n",
        "    return unique"
      ],
      "execution_count": 0,
      "outputs": []
    },
    {
      "cell_type": "code",
      "metadata": {
        "id": "x4lJYI6VwXdC",
        "colab_type": "code",
        "outputId": "e93e1b6a-0a66-47e8-d3b7-04761150c0b0",
        "colab": {
          "base_uri": "https://localhost:8080/",
          "height": 48,
          "referenced_widgets": [
            "6696ca33ebac4db6813a951d6d42c09f",
            "e2e310a8e7554d9ab513289617cf4b77",
            "f26651a008934a79804eaee35b2432a5",
            "18362d4e2160401bbbb966ef63127dd8",
            "a2f6574f0e044a668cf201401203e1de",
            "6669294997b644c5889c2bef4d331bc7",
            "ea583e1550534b6bbb788e3cc3d559d5",
            "584f883698cc4cb9a1c6a20f6384b5f1"
          ]
        }
      },
      "source": [
        "from ipywidgets import interact\n",
        "import ipywidgets as widgets\n",
        "\n",
        "output = widgets.Output()\n",
        "dropdown_state = widgets.Dropdown(options = prepare_list(baby_by_state_county_month.State))\n",
        "dropdown_month = widgets.Dropdown(options = prepare_list(baby_by_state_county_month.Month))\n",
        "\n",
        "\n",
        "def common_filtering(state_province, month):\n",
        "    output.clear_output()\n",
        "    \n",
        "    if (state_province == ALL) & (month == ALL):\n",
        "        common_filter =  baby_by_state_county_month\n",
        "    elif (state_province == ALL):\n",
        "        common_filter = baby_by_state_county_month[baby_by_state_county_month.Month == month]\n",
        "    elif (month == ALL):\n",
        "        common_filter = baby_by_state_county_month[baby_by_state_county_month.State == state_province]\n",
        "    else:\n",
        "        common_filter = baby_by_state_county_month[(baby_by_state_county_month.Month == month) & (baby_by_state_county_month.State == state_province)]\n",
        "    \n",
        "    with output:\n",
        "        display(common_filter)\n",
        "\n",
        "\n",
        "def dropdown_state_eventhandler(change):\n",
        "    common_filtering(change.new, dropdown_month.value)\n",
        "def dropdown_month_eventhandler(change):\n",
        "    common_filtering(dropdown_state.value, change.new)\n",
        "\n",
        "    \n",
        "dropdown_state.observe(\n",
        "dropdown_state_eventhandler, names='value')\n",
        "dropdown_month.observe(\n",
        "dropdown_month_eventhandler, names='value')   \n",
        "input_widgets = widgets.HBox(\n",
        "[dropdown_state, dropdown_month])\n",
        "display(input_widgets)\n",
        "\n",
        "       "
      ],
      "execution_count": 68,
      "outputs": [
        {
          "output_type": "display_data",
          "data": {
            "application/vnd.jupyter.widget-view+json": {
              "model_id": "6696ca33ebac4db6813a951d6d42c09f",
              "version_minor": 0,
              "version_major": 2
            },
            "text/plain": [
              "HBox(children=(Dropdown(options=('ALL', 'Alabama', 'Alaska', 'Arizona', 'Arkansas', 'California', 'Colorado', …"
            ]
          },
          "metadata": {
            "tags": []
          }
        }
      ]
    },
    {
      "cell_type": "markdown",
      "metadata": {
        "id": "QxQkrzCa05zn",
        "colab_type": "text"
      },
      "source": [
        "Use the dropdown boxes above to select the State and month to query the data."
      ]
    },
    {
      "cell_type": "code",
      "metadata": {
        "id": "lzvaTpPU5GPQ",
        "colab_type": "code",
        "outputId": "29fc7f84-fe76-4455-e8c1-e45eace9c83a",
        "colab": {
          "base_uri": "https://localhost:8080/",
          "height": 1000,
          "referenced_widgets": [
            "de4c7cf0a6434a71b16d409005a16840"
          ]
        }
      },
      "source": [
        "display(output)  "
      ],
      "execution_count": 69,
      "outputs": [
        {
          "output_type": "display_data",
          "data": {
            "application/vnd.jupyter.widget-view+json": {
              "model_id": "de4c7cf0a6434a71b16d409005a16840",
              "version_minor": 0,
              "version_major": 2
            },
            "text/plain": [
              "Output()"
            ]
          },
          "metadata": {
            "tags": []
          }
        }
      ]
    },
    {
      "cell_type": "code",
      "metadata": {
        "id": "Jzt0o7ziKvaB",
        "colab_type": "code",
        "outputId": "87199a9c-e522-4b6b-8403-4d507bc37696",
        "colab": {
          "base_uri": "https://localhost:8080/",
          "height": 228
        }
      },
      "source": [
        "baby_by_state_month = baby_df.groupby(['State','Month'])['Births'].sum()\n",
        "baby_by_state_month"
      ],
      "execution_count": 70,
      "outputs": [
        {
          "output_type": "execute_result",
          "data": {
            "text/plain": [
              "State    Month    \n",
              "Alabama  April        4393\n",
              "         August       5275\n",
              "         December     4961\n",
              "         February     4342\n",
              "         January      4902\n",
              "                      ... \n",
              "Wyoming  March         560\n",
              "         May           609\n",
              "         November      514\n",
              "         October       542\n",
              "         September     543\n",
              "Name: Births, Length: 612, dtype: int64"
            ]
          },
          "metadata": {
            "tags": []
          },
          "execution_count": 70
        }
      ]
    }
  ]
}