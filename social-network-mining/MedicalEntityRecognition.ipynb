{
  "nbformat": 4,
  "nbformat_minor": 0,
  "metadata": {
    "colab": {
      "name": "MedicalEntityRecognition.ipynb",
      "provenance": [],
      "private_outputs": true,
      "collapsed_sections": [],
      "authorship_tag": "ABX9TyMkBHkLnstDcJ5PPSP11Fv6",
      "include_colab_link": true
    },
    "kernelspec": {
      "name": "python3",
      "display_name": "Python 3"
    }
  },
  "cells": [
    {
      "cell_type": "markdown",
      "metadata": {
        "id": "view-in-github",
        "colab_type": "text"
      },
      "source": [
        "<a href=\"https://colab.research.google.com/github/kaniska/covid-19-hackathon/blob/master/social-network-mining/MedicalEntityRecognition.ipynb\" target=\"_parent\"><img src=\"https://colab.research.google.com/assets/colab-badge.svg\" alt=\"Open In Colab\"/></a>"
      ]
    },
    {
      "cell_type": "code",
      "metadata": {
        "id": "CulIDesvTX3s",
        "colab_type": "code",
        "colab": {}
      },
      "source": [
        "import json\n",
        "import sys\n",
        "import spacy\n",
        "import scispacy\n",
        "import pandas as pd\n",
        "from scispacy.umls_linking import UmlsEntityLinker\n"
      ],
      "execution_count": 0,
      "outputs": []
    },
    {
      "cell_type": "code",
      "metadata": {
        "id": "ncq3pZ0lpOaR",
        "colab_type": "code",
        "colab": {}
      },
      "source": [
        "nlp = spacy.load(\"en_ner_bc5cdr_md\")"
      ],
      "execution_count": 0,
      "outputs": []
    },
    {
      "cell_type": "code",
      "metadata": {
        "id": "JNSCTGcRpPJA",
        "colab_type": "code",
        "colab": {}
      },
      "source": [
        "with open(r\"drive/My Drive/TweetStreams/coronavirus-tweet-id-2020-04-10-21.json\", \"r\") as file:\n",
        "    tweets_data = json.load(file)\n",
        "\n",
        "doc = nlp(tweets_data)\n",
        "drugs = []\n",
        "ds = []\n",
        "diseases = []\n",
        "for entity in doc.ents:\n",
        "    drug = entity.text\n",
        "    label = entity.label_\n",
        "    if label == \"CHEMICAL\" and drug not in drugs:\n",
        "        diseases.append(get_disease(drug))\n",
        "    elif label == \"DISEASE\" and drug not in drugs:\n",
        "        ds.append(drug)\n",
        "    drugs.append(drug)\n",
        "if len(ds):\n",
        "    diseases.append(ds)\n",
        "if len(diseases) == 1:\n",
        "    print(None)\n",
        "else:\n",
        "    return print(diseases)"
      ],
      "execution_count": 0,
      "outputs": []
    }
  ]
}
