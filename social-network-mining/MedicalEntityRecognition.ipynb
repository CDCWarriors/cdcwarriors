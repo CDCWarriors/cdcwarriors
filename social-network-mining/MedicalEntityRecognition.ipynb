{
  "nbformat": 4,
  "nbformat_minor": 0,
  "metadata": {
    "colab": {
      "name": "MedicalEntityRecognition.ipynb",
      "provenance": [],
      "private_outputs": true,
      "collapsed_sections": [],
      "machine_shape": "hm",
      "authorship_tag": "ABX9TyPz6VqBneSiheGe068JJ/VW",
      "include_colab_link": true
    },
    "kernelspec": {
      "name": "python3",
      "display_name": "Python 3"
    },
    "accelerator": "GPU"
  },
  "cells": [
    {
      "cell_type": "markdown",
      "metadata": {
        "id": "view-in-github",
        "colab_type": "text"
      },
      "source": [
        "<a href=\"https://colab.research.google.com/github/kaniska/covid-19-hackathon/blob/master/social-network-mining/MedicalEntityRecognition.ipynb\" target=\"_parent\"><img src=\"https://colab.research.google.com/assets/colab-badge.svg\" alt=\"Open In Colab\"/></a>"
      ]
    },
    {
      "cell_type": "code",
      "metadata": {
        "id": "lnEVU3dj4PkT",
        "colab_type": "code",
        "colab": {}
      },
      "source": [
        "%%time\n",
        "!pip install pybind11\n",
        "!pip install nmslib\n",
        "!pip install scispacy spacy\n",
        "!pip install googletrans\n",
        "!pip install https://s3-us-west-2.amazonaws.com/ai2-s2-scispacy/releases/v0.2.4/en_ner_bc5cdr_md-0.2.4.tar.gz\n",
        "!pip install pytextrank"
      ],
      "execution_count": 0,
      "outputs": []
    },
    {
      "cell_type": "code",
      "metadata": {
        "id": "XlPFnwmA48Ks",
        "colab_type": "code",
        "colab": {}
      },
      "source": [
        "!pip install https://s3-us-west-2.amazonaws.com/ai2-s2-scispacy/releases/v0.2.4/en_core_sci_sm-0.2.4.tar.gz\n",
        "!pip install https://s3-us-west-2.amazonaws.com/ai2-s2-scispacy/releases/v0.2.4/en_core_sci_md-0.2.4.tar.gz"
      ],
      "execution_count": 0,
      "outputs": []
    },
    {
      "cell_type": "code",
      "metadata": {
        "id": "tqteGvro4R6-",
        "colab_type": "code",
        "colab": {}
      },
      "source": [
        "import spacy\n",
        "import scispacy\n",
        "from scispacy.abbreviation import AbbreviationDetector\n",
        "from scispacy.umls_linking import UmlsEntityLinker\n",
        "#import en_core_web_sm\n",
        "#import en_core_sci_sm\n",
        "import en_ner_bc5cdr_md\n",
        "import json\n",
        "from collections import defaultdict, Counter\n",
        "import pytextrank"
      ],
      "execution_count": 0,
      "outputs": []
    },
    {
      "cell_type": "code",
      "metadata": {
        "id": "-gJH-R_X5Yrr",
        "colab_type": "code",
        "colab": {}
      },
      "source": [
        "\n",
        "#nlp1 = en_core_web_sm.load()\n",
        "#nlp2 = en_core_sci_sm.load()\n",
        "nlp3 = en_ner_bc5cdr_md.load()\n",
        "\n",
        "linker = UmlsEntityLinker(resolve_abbreviations=True)\n",
        "#nlp2.add_pipe(linker)\n",
        "\n",
        "textRank = pytextrank.TextRank()\n",
        "abbreviation_pipe = AbbreviationDetector(nlp3)\n",
        "if not nlp3.has_pipe(\"abbrev\"):\n",
        "    nlp3.add_pipe(abbreviation_pipe, name=\"abbrev\")\n",
        "if not nlp3.has_pipe(\"textRank\"):\n",
        "    nlp3.add_pipe(textRank.PipelineComponent, name=\"textRank\", last=True)\n",
        "if not nlp3.has_pipe(\"linker\"):\n",
        "    nlp3.add_pipe(linker, name=\"linker\")"
      ],
      "execution_count": 0,
      "outputs": []
    },
    {
      "cell_type": "code",
      "metadata": {
        "id": "G-gRTNzbSKsh",
        "colab_type": "code",
        "colab": {}
      },
      "source": [
        "from google.colab import drive\n",
        "drive.mount('/content/drive')\n",
        "with open(r\"/content/drive/My Drive/TweetStreams/coronavirus-tweet-id-2020-04-10-21.jsonl\", \"r\") as json_file:\n",
        "    json_list = list(json_file)"
      ],
      "execution_count": 0,
      "outputs": []
    },
    {
      "cell_type": "code",
      "metadata": {
        "id": "eCUj7kN_9Zw4",
        "colab_type": "code",
        "colab": {}
      },
      "source": [
        "for json_str in json_list:\n",
        "    tweet_data = json.loads(json_str)    \n",
        "    text_content = tweet_data['full_text']\n",
        "    try:\n",
        "        result = translator.translate(text_content)\n",
        "        translatedText = result.text\n",
        "        print(translatedText)\n",
        "        if json_str and health_category(translatedText):\n",
        "            print(\"Health Category Found\")\n",
        "            if covid_term_found(json_str):\n",
        "                break\n",
        "    except:\n",
        "        print(\"Translation Failed\")"
      ],
      "execution_count": 0,
      "outputs": []
    },
    {
      "cell_type": "code",
      "metadata": {
        "id": "0QzDVgUMOltv",
        "colab_type": "code",
        "colab": {}
      },
      "source": [
        "def covid_term_found(tweet_text, tweet_id):\n",
        "    #Approach 1\n",
        "    doc1 = nlp3(tweet_text)\n",
        "    #processed.append((tweet_data['id'], doc1))\n",
        "    drugs = []\n",
        "    diseases = []\n",
        "    umls_entities = defaultdict(Counter)\n",
        "    entities = defaultdict(lambda: defaultdict(Counter))\n",
        "    \n",
        "    entity_found = 0\n",
        "    for entity in doc1.ents:\n",
        "        # first find the entities and check the categories\n",
        "        # \n",
        "        #if entity.label_  in ['CHEMICAL', 'DISEASE']:\n",
        "        print(\"Tweet: \",json_str)\n",
        "        print(\"Name: \", entity.text, \"Label: \", entity.label_)\n",
        "        entities[tweet_data['id']][entity.label_].update([entity])\n",
        "        for umls_ent in entity._.umls_ents:\n",
        "            print(linker.umls.cui_to_entity[umls_ent[0]])\n",
        "            print(umls_ent[1])\n",
        "            print(\"---------------------------------------------\")\n",
        "        # the umls candidate entities are attached to the entity mention, we'll take only the first\n",
        "        top_candidate = next(iter([e for e in entity._.umls_ents if e[1] > 0.85]), None)\n",
        "        if top_candidate:\n",
        "            cuid = top_candidate[0]\n",
        "            umls_entities[tweet_id].update([cuid])\n",
        "            entity_found = 1\n",
        "        #else:\n",
        "        #    print(\"Medical term not found\")\n",
        "\n",
        "    for cuid, freq in umls_entities[tweet_id].most_common():\n",
        "        entity = linker.umls.cui_to_entity[cuid]\n",
        "        print(f\"{freq} UID: {entity.concept_id}, name: {entity.canonical_name}, types: {entity.types}\")\n",
        "\n",
        "    \n",
        "    if entity_found == 1:\n",
        "        umls_entities[tweet_id]\n",
        "        entities[tweet_id]\n",
        "        return True\n",
        "    \n",
        "    return False"
      ],
      "execution_count": 0,
      "outputs": []
    },
    {
      "cell_type": "code",
      "metadata": {
        "id": "awCr6X-4Z8zk",
        "colab_type": "code",
        "colab": {}
      },
      "source": [
        "text = \"coronavirus tests are going unused in US labs. Some can give results in 12-24 hours\"\n",
        "covid_term_found(text,123)\n"
      ],
      "execution_count": 0,
      "outputs": []
    },
    {
      "cell_type": "code",
      "metadata": {
        "id": "XYVTWGhzmPd2",
        "colab_type": "code",
        "colab": {}
      },
      "source": [
        "import argparse\n",
        "import io\n",
        "import json\n",
        "import os\n",
        "from google.cloud import language_v1\n",
        "from google.cloud.language_v1 import enums\n",
        "\n",
        "import numpy\n",
        "import six\n",
        "\n",
        "from google.cloud.language_v1 import types\n",
        "import os\n",
        "from google.oauth2 import service_account\n",
        "import googletrans\n",
        "from googletrans import Translator\n",
        "translator = Translator()\n",
        "\n",
        "from google.colab import drive\n",
        "drive.mount('/content/drive')\n",
        "\n",
        "language_client_v1 = language_v1.LanguageServiceClient.from_service_account_json(\"/content/drive/My Drive/secrets/niagra-a628a699be36.json\")\n"
      ],
      "execution_count": 0,
      "outputs": []
    },
    {
      "cell_type": "code",
      "metadata": {
        "id": "NvzZpUsvI3WO",
        "colab_type": "code",
        "colab": {}
      },
      "source": [
        "def health_category(translatedText):\n",
        "    #text = \"Mulan Inspired merchandise available in China at Disney Store / Disney Town https://t.co/ZniMSngtwC\"\n",
        "    #text = \"RT @JesusCintora: Nos hablan de que los socialcomunistas han propagado el covid, de una gestión criminal o de campos de concentración, pero…\"\n",
        "    document = language_v1.types.Document(\n",
        "        content=translatedText,\n",
        "        type=language_v1.enums.Document.Type.PLAIN_TEXT)\n",
        "\n",
        "    entities = language_client_v1.analyze_entities(document)\n",
        "    #show_entities(response1,5)\n",
        "    for entity in entities.entities[:10]:\n",
        "        if \"Health\" in entity.Type.Name(entity.type):\n",
        "            print(' name: {0}'.format(entity.name))\n",
        "            print(' type: {0}'.format(entity.Type.Name(entity.type)))\n",
        "            print(' metadata: {0}'.format(dict(entity.metadata)))\n",
        "            print(' salience: {:.4f}'.format(entity.salience))\n",
        "            return True\n",
        "        else:\n",
        "            print(' name: {0}'.format(entity.name), ' type: {0}'.format(entity.Type.Name(entity.type)),' salience: {:.4f}'.format(entity.salience))\n",
        "    return False\n"
      ],
      "execution_count": 0,
      "outputs": []
    },
    {
      "cell_type": "code",
      "metadata": {
        "id": "TVSRN1GNaYBO",
        "colab_type": "code",
        "colab": {}
      },
      "source": [
        "text = \"coronavirus tests are going unused in US labs. Some can give results in 12-24 hours\"\n",
        "tmp1 = '\"Contagion by covid-19 for doing their work as part of corresponding staff méd ...'\n",
        "health_category(tmp1)"
      ],
      "execution_count": 0,
      "outputs": []
    },
    {
      "cell_type": "code",
      "metadata": {
        "id": "pPD48zdXOP7A",
        "colab_type": "code",
        "colab": {}
      },
      "source": [
        "text = \"Mulan Inspired merchandise available in China at Disney Store / Disney Town https://t.co/ZniMSngtwC\"  \n",
        "if health_category(text):\n",
        "    print(\"Found Health Category\")\n",
        "else:\n",
        "    print(\"Health Category Not Found\")"
      ],
      "execution_count": 0,
      "outputs": []
    },
    {
      "cell_type": "code",
      "metadata": {
        "id": "hjjWz5bNnxbR",
        "colab_type": "code",
        "colab": {}
      },
      "source": [
        "def show_topic(response):\n",
        "    for category in response.categories:\n",
        "        # Get the name of the category representing the document.\n",
        "        # See the predefined taxonomy of categories:\n",
        "        # https://cloud.google.com/natural-language/docs/categories\n",
        "        print(u\"Category name: {}\".format(category.name))\n",
        "        # Get the confidence. Number representing how certain the classifier\n",
        "        # is that this category represents the provided text.\n",
        "        print(u\"Confidence: {}\".format(category.confidence))\n",
        "\n"
      ],
      "execution_count": 0,
      "outputs": []
    },
    {
      "cell_type": "code",
      "metadata": {
        "id": "c37wi4C6kssy",
        "colab_type": "code",
        "colab": {}
      },
      "source": [
        "def show_entities(entities, n):\n",
        "\tfor entity in entities.entities[:n]:\n",
        "\t\tprint('=' * 20)\n",
        "\t\tprint(' name: {0}'.format(entity.name))\n",
        "\t\tprint(' type: {0}'.format(entity.Type.Name(entity.type)))\n",
        "\t\tprint(' metadata: {0}'.format(dict(entity.metadata)))\n",
        "\t\tprint(' salience: {:.4f}'.format(entity.salience))"
      ],
      "execution_count": 0,
      "outputs": []
    },
    {
      "cell_type": "code",
      "metadata": {
        "id": "Y2XyvzNWiC05",
        "colab_type": "code",
        "colab": {}
      },
      "source": [
        "tmp1 = '\"Contagion by covid-19 for doing their work as part of corresponding staff méd ...'\n",
        "tmp2 = 'RT @JesusCintora: Nos hablan de que los socialcomunistas han propagado el covid, de una gestión criminal o de campos de concentración, pero'\n",
        "result = translator.translate(tmp2)\n",
        "\n",
        "print(result)"
      ],
      "execution_count": 0,
      "outputs": []
    }
  ]
}