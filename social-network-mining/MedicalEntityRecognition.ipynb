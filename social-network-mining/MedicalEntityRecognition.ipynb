{
  "nbformat": 4,
  "nbformat_minor": 0,
  "metadata": {
    "colab": {
      "name": "MedicalEntityRecognition.ipynb",
      "provenance": [],
      "private_outputs": true,
      "collapsed_sections": [],
      "authorship_tag": "ABX9TyM7/+TK99Z0iFi3fREX+x6g",
      "include_colab_link": true
    },
    "kernelspec": {
      "name": "python3",
      "display_name": "Python 3"
    }
  },
  "cells": [
    {
      "cell_type": "markdown",
      "metadata": {
        "id": "view-in-github",
        "colab_type": "text"
      },
      "source": [
        "<a href=\"https://colab.research.google.com/github/kaniska/covid-19-hackathon/blob/master/social-network-mining/MedicalEntityRecognition.ipynb\" target=\"_parent\"><img src=\"https://colab.research.google.com/assets/colab-badge.svg\" alt=\"Open In Colab\"/></a>"
      ]
    },
    {
      "cell_type": "code",
      "metadata": {
        "id": "lnEVU3dj4PkT",
        "colab_type": "code",
        "colab": {}
      },
      "source": [
        "%%time\n",
        "!pip install pybind11"
      ],
      "execution_count": 0,
      "outputs": []
    },
    {
      "cell_type": "code",
      "metadata": {
        "id": "gDS0nwO14Zmg",
        "colab_type": "code",
        "colab": {}
      },
      "source": [
        "%%time\n",
        "!pip install nmslib"
      ],
      "execution_count": 0,
      "outputs": []
    },
    {
      "cell_type": "code",
      "metadata": {
        "id": "hoRcSlTT44My",
        "colab_type": "code",
        "colab": {}
      },
      "source": [
        "%%time\n",
        "!pip install scispacy spacy"
      ],
      "execution_count": 0,
      "outputs": []
    },
    {
      "cell_type": "code",
      "metadata": {
        "id": "XlPFnwmA48Ks",
        "colab_type": "code",
        "colab": {}
      },
      "source": [
        "!pip install https://s3-us-west-2.amazonaws.com/ai2-s2-scispacy/releases/v0.2.4/en_core_sci_sm-0.2.4.tar.gz"
      ],
      "execution_count": 0,
      "outputs": []
    },
    {
      "cell_type": "code",
      "metadata": {
        "id": "eiDg7YRi6Q5Q",
        "colab_type": "code",
        "colab": {}
      },
      "source": [
        "!pip install https://s3-us-west-2.amazonaws.com/ai2-s2-scispacy/releases/v0.2.4/en_core_sci_md-0.2.4.tar.gz"
      ],
      "execution_count": 0,
      "outputs": []
    },
    {
      "cell_type": "code",
      "metadata": {
        "id": "H3YPECm57iP2",
        "colab_type": "code",
        "colab": {}
      },
      "source": [
        "!pip install https://s3-us-west-2.amazonaws.com/ai2-s2-scispacy/releases/v0.2.4/en_ner_bc5cdr_md-0.2.4.tar.gz"
      ],
      "execution_count": 0,
      "outputs": []
    },
    {
      "cell_type": "code",
      "metadata": {
        "id": "tqteGvro4R6-",
        "colab_type": "code",
        "colab": {}
      },
      "source": [
        "import spacy\n",
        "import scispacy\n",
        "from scispacy.abbreviation import AbbreviationDetector\n",
        "from scispacy.umls_linking import UmlsEntityLinker"
      ],
      "execution_count": 0,
      "outputs": []
    },
    {
      "cell_type": "code",
      "metadata": {
        "id": "-gJH-R_X5Yrr",
        "colab_type": "code",
        "colab": {}
      },
      "source": [
        "#import en_core_web_sm\n",
        "#import en_core_sci_sm\n",
        "import en_ner_bc5cdr_md\n",
        "#nlp1 = en_core_web_sm.load()\n",
        "#nlp2 = en_core_sci_sm.load()\n",
        "nlp3 = en_ner_bc5cdr_md.load()\n",
        "\n",
        "linker = UmlsEntityLinker(resolve_abbreviations=True)\n",
        "#nlp2.add_pipe(linker)"
      ],
      "execution_count": 0,
      "outputs": []
    },
    {
      "cell_type": "code",
      "metadata": {
        "id": "THgGRqA68cOa",
        "colab_type": "code",
        "colab": {}
      },
      "source": [
        "from google.colab import drive\n",
        "drive.mount('/content/drive')"
      ],
      "execution_count": 0,
      "outputs": []
    },
    {
      "cell_type": "code",
      "metadata": {
        "id": "4-ts1-hIQoU2",
        "colab_type": "code",
        "colab": {}
      },
      "source": [
        "nlp3.add_pipe(linker)"
      ],
      "execution_count": 0,
      "outputs": []
    },
    {
      "cell_type": "code",
      "metadata": {
        "id": "n388vc9KRK0M",
        "colab_type": "code",
        "colab": {}
      },
      "source": [
        "!pip install pytextrank"
      ],
      "execution_count": 0,
      "outputs": []
    },
    {
      "cell_type": "code",
      "metadata": {
        "id": "d__eplR0Q_uJ",
        "colab_type": "code",
        "colab": {}
      },
      "source": [
        "import pytextrank\n",
        "textRank = pytextrank.TextRank()\n",
        "abbreviation_pipe = AbbreviationDetector(nlp3)\n",
        "if not nlp3.has_pipe(\"abbrev\"):\n",
        "    nlp3.add_pipe(abbreviation_pipe, name=\"abbrev\")\n",
        "if not nlp3.has_pipe(\"textRank\"):\n",
        "    nlp3.add_pipe(textRank.PipelineComponent, name=\"textRank\", last=True)\n",
        "if not nlp3.has_pipe(\"linker\"):\n",
        "    nlp3.add_pipe(linker, name=\"linker\")"
      ],
      "execution_count": 0,
      "outputs": []
    },
    {
      "cell_type": "code",
      "metadata": {
        "id": "eCUj7kN_9Zw4",
        "colab_type": "code",
        "colab": {}
      },
      "source": [
        "import json\n",
        "from collections import defaultdict, Counter\n",
        "\n",
        "with open(r\"/content/drive/My Drive/TweetStreams/coronavirus-tweet-id-2020-04-10-21.jsonl\", \"r\") as json_file:\n",
        "    json_list = list(json_file)\n",
        "#tweets_data = \"\"\n",
        "i = 0\n",
        "#processed = []\n",
        "\n",
        "for json_str in json_list:\n",
        "    i= i+1\n",
        "    \n",
        "    tweet_data = json.loads(json_str)\n",
        "        \n",
        "    json_str = tweet_data['full_text']\n",
        "    if \"covid\" not in json_str:\n",
        "        continue\n",
        "    #Approach 1\n",
        "    doc1 = nlp3(json_str)\n",
        "    #processed.append((tweet_data['id'], doc1))\n",
        "    drugs = []\n",
        "    diseases = []\n",
        "    umls_entities = defaultdict(Counter)\n",
        "    entities = defaultdict(lambda: defaultdict(Counter))\n",
        "\n",
        "    \n",
        "    entity_found = 0\n",
        "    for entity in doc1.ents:\n",
        "        # first find the entities and check the categories\n",
        "        # \n",
        "        if entity.label_  in ['CHEMICAL', 'DISEASE']:\n",
        "            print(\"Tweet: \",json_str)\n",
        "            print(\"Name: \", entity.text, \"Label: \", entity.label_)\n",
        "            entities[tweet_data['id']][entity.label_].update([entity])\n",
        "            for umls_ent in entity._.umls_ents:\n",
        "                print(linker.umls.cui_to_entity[umls_ent[0]])\n",
        "                print(umls_ent[1])\n",
        "                print(\"---------------------------------------------\")\n",
        "            # the umls candidate entities are attached to the entity mention, we'll take only the first\n",
        "            top_candidate = next(iter([e for e in entity._.umls_ents if e[1] > 0.85]), None)\n",
        "            if top_candidate:\n",
        "                cuid = top_candidate[0]\n",
        "                umls_entities[tweet_data['id']].update([cuid])\n",
        "                entity_found = 1\n",
        "        else:\n",
        "            print(\"Medical term not found\")\n",
        "\n",
        "    for cuid, freq in umls_entities[tweet_data['id']].most_common():\n",
        "        entity = linker.umls.cui_to_entity[cuid]\n",
        "        print(f\"{freq} UID: {entity.concept_id}, name: {entity.canonical_name}, types: {entity.types}\")\n",
        "\n",
        "    \n",
        "    if entity_found == 1:\n",
        "        umls_entities[tweet_data['id']]\n",
        "        entities[tweet_data['id']]\n",
        "        break\n",
        "\n",
        "    #Approach 2\n",
        "    '''\n",
        "    doc2 = nlp2(json_str)\n",
        "    drugs = []\n",
        "    diseases = []\n",
        "    for entity in doc2.ents:\n",
        "        print(\"---------------------------------------------\")\n",
        "        print(\"Name: \", entity.text, \"Label: \", entity.label)\n",
        "        print(\"---------------------------------------------\")\n",
        "        for umls_ent in entity._.umls_ents:\n",
        "            print(linker.umls.cui_to_entity[umls_ent[0]])\n",
        "            print(\"---------------------------------------------\")\n",
        "     \n",
        "    break\n",
        "    '''\n",
        "    #tweets_data = tweets_data + json_str \n",
        "    #result = json.loads(json_str)\n",
        "    #print(\"result: {}\".format(result))\n",
        "    #tweets_data = tweets_data + result \n"
      ],
      "execution_count": 0,
      "outputs": []
    },
    {
      "cell_type": "code",
      "metadata": {
        "id": "KiXwGv5AF5hh",
        "colab_type": "code",
        "colab": {}
      },
      "source": [
        "for entity in doc.ents:\n",
        "        entity_details = entity.text\n",
        "        label = entity.label_\n",
        "        if label == \"CHEMICAL\":\n",
        "            drugs.append(entity_details)\n",
        "        elif label == \"DISEASE\":\n",
        "            diseases.append(entity_details)\n",
        "    \n",
        "    print(drugs)\n",
        "    print(diseases)"
      ],
      "execution_count": 0,
      "outputs": []
    },
    {
      "cell_type": "code",
      "metadata": {
        "id": "JNSCTGcRpPJA",
        "colab_type": "code",
        "colab": {}
      },
      "source": [
        "\n",
        "#print(tweets_data)\n",
        "\n",
        "doc = nlp1(tweets_data)\n",
        "drugs = []\n",
        "ds = []\n",
        "diseases = []\n",
        "for entity in doc.ents:\n",
        "    drug = entity.text\n",
        "    label = entity.label_\n",
        "    if label == \"CHEMICAL\" and drug not in drugs:\n",
        "        diseases.append(get_disease(drug))\n",
        "    elif label == \"DISEASE\" and drug not in drugs:\n",
        "        ds.append(drug)\n",
        "    drugs.append(drug)\n",
        "if len(ds):\n",
        "    diseases.append(ds)\n",
        "if len(diseases) == 1:\n",
        "    print(None)\n",
        "else:\n",
        "    return print(diseases)"
      ],
      "execution_count": 0,
      "outputs": []
    },
    {
      "cell_type": "code",
      "metadata": {
        "id": "5YFZZG9Ee06o",
        "colab_type": "code",
        "colab": {}
      },
      "source": [
        "from google.colab import drive\n",
        "drive.mount('/content/drive')"
      ],
      "execution_count": 0,
      "outputs": []
    },
    {
      "cell_type": "code",
      "metadata": {
        "id": "XYVTWGhzmPd2",
        "colab_type": "code",
        "colab": {}
      },
      "source": [
        "import argparse\n",
        "import io\n",
        "import json\n",
        "import os\n",
        "\n",
        "from google.cloud import language\n",
        "import numpy\n",
        "import six\n",
        "\n",
        "from google.cloud.language import enums\n",
        "from google.cloud.language import types\n",
        "import os\n",
        "from google.oauth2 import service_account\n",
        "import googletrans\n",
        "from googletrans import Translator\n",
        "translator = Translator()\n",
        "language_client = language.LanguageServiceClient.from_service_account_json(\"/content/drive/My Drive/secrets/niagra-a628a699be36.json\")\n",
        "\n",
        "#text = \"Mulan Inspired merchandise available in China at Disney Store / Disney Town https://t.co/ZniMSngtwC\"\n",
        "#text = \"RT @JesusCintora: Nos hablan de que los socialcomunistas han propagado el covid, de una gestión criminal o de campos de concentración, pero…\"\n",
        "result = translator.translate('RT @JesusCintora: Nos hablan de que los socialcomunistas han propagado el covid, de una gestión criminal o de campos de concentración, pero')\n",
        "text = result.text\n",
        "\n",
        "document = language.types.Document(\n",
        "    content=text,\n",
        "    type=language.enums.Document.Type.PLAIN_TEXT)\n",
        "response1 = language_client.analyze_entities(document)\n",
        "show_entities(response1,5)\n",
        "\n",
        "response2 = language_client.classify_text(document)\n",
        "show_topic(response2)\n",
        "\n",
        "#print(response)\n",
        "\n",
        "\n"
      ],
      "execution_count": 0,
      "outputs": []
    },
    {
      "cell_type": "code",
      "metadata": {
        "id": "hjjWz5bNnxbR",
        "colab_type": "code",
        "colab": {}
      },
      "source": [
        "def show_topic(response):\n",
        "    for category in response.categories:\n",
        "        # Get the name of the category representing the document.\n",
        "        # See the predefined taxonomy of categories:\n",
        "        # https://cloud.google.com/natural-language/docs/categories\n",
        "        print(u\"Category name: {}\".format(category.name))\n",
        "        # Get the confidence. Number representing how certain the classifier\n",
        "        # is that this category represents the provided text.\n",
        "        print(u\"Confidence: {}\".format(category.confidence))\n",
        "\n"
      ],
      "execution_count": 0,
      "outputs": []
    },
    {
      "cell_type": "code",
      "metadata": {
        "id": "c37wi4C6kssy",
        "colab_type": "code",
        "colab": {}
      },
      "source": [
        "def show_entities(entities, n):\n",
        "\tfor entity in entities.entities[:n]:\n",
        "\t\tprint('=' * 20)\n",
        "\t\tprint(' name: {0}'.format(entity.name))\n",
        "\t\tprint(' type: {0}'.format(entity.Type.Name(entity.type)))\n",
        "\t\tprint(' metadata: {0}'.format(dict(entity.metadata)))\n",
        "\t\tprint(' salience: {:.4f}'.format(entity.salience))"
      ],
      "execution_count": 0,
      "outputs": []
    },
    {
      "cell_type": "code",
      "metadata": {
        "id": "GYlUOfN2h9wp",
        "colab_type": "code",
        "colab": {}
      },
      "source": [
        "!pip install googletrans"
      ],
      "execution_count": 0,
      "outputs": []
    },
    {
      "cell_type": "code",
      "metadata": {
        "id": "Y2XyvzNWiC05",
        "colab_type": "code",
        "colab": {}
      },
      "source": [
        "import googletrans\n",
        "from googletrans import Translator\n",
        "translator = Translator()\n",
        "result = translator.translate('RT @JesusCintora: Nos hablan de que los socialcomunistas han propagado el covid, de una gestión criminal o de campos de concentración, pero')\n",
        "print(result)"
      ],
      "execution_count": 0,
      "outputs": []
    }
  ]
}