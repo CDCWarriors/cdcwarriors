{
  "nbformat": 4,
  "nbformat_minor": 0,
  "metadata": {
    "colab": {
      "name": "MedicalEntityRecognition.ipynb",
      "provenance": [],
      "private_outputs": true,
      "collapsed_sections": [],
      "authorship_tag": "ABX9TyP6BHtusWxsYzhhxI3YFdzX",
      "include_colab_link": true
    },
    "kernelspec": {
      "name": "python3",
      "display_name": "Python 3"
    }
  },
  "cells": [
    {
      "cell_type": "markdown",
      "metadata": {
        "id": "view-in-github",
        "colab_type": "text"
      },
      "source": [
        "<a href=\"https://colab.research.google.com/github/kaniska/covid-19-hackathon/blob/master/social-network-mining/MedicalEntityRecognition.ipynb\" target=\"_parent\"><img src=\"https://colab.research.google.com/assets/colab-badge.svg\" alt=\"Open In Colab\"/></a>"
      ]
    },
    {
      "cell_type": "code",
      "metadata": {
        "id": "CulIDesvTX3s",
        "colab_type": "code",
        "colab": {}
      },
      "source": [
        "import json\n",
        "import sys\n",
        "import spacy\n",
        "import scispacy\n",
        "import pandas as pd\n",
        "from scispacy.umls_linking import UmlsEntityLinker\n"
      ],
      "execution_count": 0,
      "outputs": []
    },
    {
      "cell_type": "code",
      "metadata": {
        "id": "ncq3pZ0lpOaR",
        "colab_type": "code",
        "colab": {}
      },
      "source": [
        "nlp = spacy.load(\"en_ner_bc5cdr_md\")"
      ],
      "execution_count": 0,
      "outputs": []
    },
    {
      "cell_type": "code",
      "metadata": {
        "id": "JNSCTGcRpPJA",
        "colab_type": "code",
        "colab": {}
      },
      "source": [
        "drugs_df = pd.read_csv(r\"D:\\Events\\GE Hackathon\\sadrat\\additional resources\\drug.csv\")\n",
        "drugs_df.drop(['drug_id', 'drugbank_id', 'pubchem_cid'], axis=1, inplace=True)\n",
        "drugs_df.dropna(axis=0, inplace=True)\n",
        "drugs_df.head()"
      ],
      "execution_count": 0,
      "outputs": []
    }
  ]
}
