{
  "nbformat": 4,
  "nbformat_minor": 0,
  "metadata": {
    "colab": {
      "name": "StreamingSocialNetworkMining.ipynb",
      "provenance": [],
      "collapsed_sections": [],
      "authorship_tag": "ABX9TyNh0rwBwjT16736XG0hO2FL",
      "include_colab_link": true
    },
    "kernelspec": {
      "name": "python3",
      "display_name": "Python 3"
    }
  },
  "cells": [
    {
      "cell_type": "markdown",
      "metadata": {
        "id": "view-in-github",
        "colab_type": "text"
      },
      "source": [
        "<a href=\"https://colab.research.google.com/github/kaniska/covid-19-hackathon/blob/analyze-streaming-data/StreamingSocialNetworkMining.ipynb\" target=\"_parent\"><img src=\"https://colab.research.google.com/assets/colab-badge.svg\" alt=\"Open In Colab\"/></a>"
      ]
    },
    {
      "cell_type": "code",
      "metadata": {
        "id": "J365sESzVLSq",
        "colab_type": "code",
        "colab": {}
      },
      "source": [
        "\n",
        "from datetime import datetime\n",
        "import json\n",
        "import re\n",
        "import os\n",
        "import tweepy\n",
        "from pprint import pprint as pp\n",
        "import json\n",
        "import os\n",
        "import time"
      ],
      "execution_count": 0,
      "outputs": []
    },
    {
      "cell_type": "code",
      "metadata": {
        "id": "-GCjwQRxd2v0",
        "colab_type": "code",
        "colab": {}
      },
      "source": [
        "symptom_queries = ['shortness of breath' , 'sore throat' , 'headache' , 'respiratory virus' , 'bronchoalveolar lavage fluid' , 'ground glass opacities' , 'Bluish lips or face', 'Real-Time RT-PCR Diagnostic Panel', 'myalgia', 'fever 100', 'fever 38C', 'rhinorrhea', 'dyspnea', 'Nausea']\n"
      ],
      "execution_count": 0,
      "outputs": []
    },
    {
      "cell_type": "code",
      "metadata": {
        "id": "tUZ3VWxaWl5-",
        "colab_type": "code",
        "colab": {}
      },
      "source": [
        "states = {\n",
        "        'AK': 'Alaska',\n",
        "        'AL': 'Alabama',\n",
        "        'AR': 'Arkansas',\n",
        "        'AZ': 'Arizona',\n",
        "        'CA': 'California',\n",
        "        'CO': 'Colorado',\n",
        "        'CT': 'Connecticut',\n",
        "        'DC': 'District of Columbia',\n",
        "        'DE': 'Delaware',\n",
        "        'FL': 'Florida',\n",
        "        'GA': 'Georgia',\n",
        "        'HI': 'Hawaii',\n",
        "        'IA': 'Iowa',\n",
        "        'ID': 'Idaho',\n",
        "        'IL': 'Illinois',\n",
        "        'IN': 'Indiana',\n",
        "        'KS': 'Kansas',\n",
        "        'KY': 'Kentucky',\n",
        "        'LA': 'Louisiana',\n",
        "        'MA': 'Massachusetts',\n",
        "        'MD': 'Maryland',\n",
        "        'ME': 'Maine',\n",
        "        'MI': 'Michigan',\n",
        "        'MN': 'Minnesota',\n",
        "        'MO': 'Missouri',\n",
        "        'MS': 'Mississippi',\n",
        "        'MT': 'Montana',\n",
        "        'NC': 'North Carolina',\n",
        "        'ND': 'North Dakota',\n",
        "        'NE': 'Nebraska',\n",
        "        'NH': 'New Hampshire',\n",
        "        'NJ': 'New Jersey',\n",
        "        'NM': 'New Mexico',\n",
        "        'NV': 'Nevada',\n",
        "        'NY': 'New York',\n",
        "        'OH': 'Ohio',\n",
        "        'OK': 'Oklahoma',\n",
        "        'OR': 'Oregon',\n",
        "        'PA': 'Pennsylvania',\n",
        "        'RI': 'Rhode Island',\n",
        "        'SC': 'South Carolina',\n",
        "        'SD': 'South Dakota',\n",
        "        'TN': 'Tennessee',\n",
        "        'TX': 'Texas',\n",
        "        'UT': 'Utah',\n",
        "        'VA': 'Virginia',\n",
        "        'VT': 'Vermont',\n",
        "        'WA': 'Washington',\n",
        "        'WI': 'Wisconsin',\n",
        "        'WV': 'West Virginia',\n",
        "        'WY': 'Wyoming'\n",
        "}"
      ],
      "execution_count": 0,
      "outputs": []
    },
    {
      "cell_type": "code",
      "metadata": {
        "id": "2GoFwydTWsnO",
        "colab_type": "code",
        "colab": {}
      },
      "source": [
        "def checkStates(input):\n",
        "\tprint(\"_7 \"+input)\n",
        "\tif input:\n",
        "\t\tprint(\"_7\")\n",
        "\t\tabbrevAndNames = json.dumps(states)\n",
        "\t\tprint(\"_7a\")\n",
        "\t\tregex = re.compile(r'\\b(' + '|'.join(abbrevAndNames) + r')\\b')\n",
        "\t\tprint(\"_7 b\")\n",
        "\t\tlocation = regex.search(input)\n",
        "\t\tprint(\"_8 \")\n",
        "\t\tif location:\n",
        "\t\t\tprint(\"_9\")\n",
        "\t\t\treturn states.get(location.group(0), location.group(0))\n"
      ],
      "execution_count": 0,
      "outputs": []
    },
    {
      "cell_type": "code",
      "metadata": {
        "id": "oCx58WzOVY-l",
        "colab_type": "code",
        "colab": {}
      },
      "source": [
        "import json\n",
        "import re\n",
        "##abbrevAndNames = str(states.keys()) + str(states.values())\n",
        "#print(abbrevAndNames)\n",
        "#regex = re.compile(r'\\b(' + '|'.join(abbrevAndNames) + r')\\b')\n",
        "#location = regex.search('Manila, Philippines')\n",
        "#if location:\n",
        "#    print( states.get(location.group(0), location.group(0)))"
      ],
      "execution_count": 0,
      "outputs": []
    },
    {
      "cell_type": "code",
      "metadata": {
        "id": "xxcCV27YWvhf",
        "colab_type": "code",
        "colab": {}
      },
      "source": [
        "def convertTweetToJson4(tweet):\n",
        "    dict4stream = {}\n",
        "    print(\"_2\")\n",
        "    location = \"\"\n",
        "    dict4stream[\"tweetId\"] = tweet[\"id\"]\n",
        "    dict4stream[\"tweetText\"] = tweet[\"text\"]\n",
        "    dict4stream[\"timestamp\"] = tweet[\"created_at\"]\n",
        "    place = tweet['place']\n",
        "    print(\"_3\")\n",
        "    resultTweet = \"\"\n",
        "    if place:\n",
        "        location = place[\"full_name\"]\n",
        "        print(\"_4\")\n",
        "    else:\n",
        "        user = tweet['user']\n",
        "        if user:\n",
        "            location = user[\"location\"]\n",
        "            print(\"_5\")\n",
        "    if location:\n",
        "        dict4stream[\"location\"] = location\n",
        "    print(\"_6\")    \n",
        "    resultTweet =json.dumps(dict4stream)\n",
        "    print(\"_10 \"+resultTweet)\n",
        "    return resultTweet"
      ],
      "execution_count": 0,
      "outputs": []
    },
    {
      "cell_type": "code",
      "metadata": {
        "id": "ESnpuJShR8wi",
        "colab_type": "code",
        "colab": {}
      },
      "source": [
        "from google.colab import drive\n",
        "drive.mount('/content/drive')\n"
      ],
      "execution_count": 0,
      "outputs": []
    },
    {
      "cell_type": "code",
      "metadata": {
        "id": "TMC9hQVmkUoh",
        "colab_type": "code",
        "colab": {}
      },
      "source": [
        "\n",
        "class TweetStreamListener(tweepy.StreamListener):\n",
        "    def on_status(self, status):\n",
        "        try:\n",
        "            json4 = convertTweetToJson4(status._json)\n",
        "            if json4:\n",
        "                timestr = time.strftime(\"%Y%m%d\") + \"-streamedCovidJson\"\n",
        "                filePath = \"drive/My Drive/TweetStreams/\"+timestr\n",
        "                with open(filePath, 'a+') as f:\n",
        "                    f.write(json4)\n",
        "                    f.write(\"\\n\")\n",
        "                    return True\n",
        "        except BaseException as e:\n",
        "            print(\"Error on_data: %s\" % str(e))\n",
        "            return True\n",
        "    \n",
        "\t# def on_data(self, data):\n",
        "\t# \tprint data\n",
        "\n",
        "    def on_error(self, status_code):\n",
        "        print(status_code)\n",
        "        if status_code == 420:\n",
        "            #returning False in on_data disconnects the stream\n",
        "            return False\n",
        "\n",
        "\t# def on_data(self, data):\n",
        "\t# \tprint data\n",
        "\n",
        "    def on_error(self, status_code):\n",
        "        print(status_code)\n",
        "        if status_code == 420:\n",
        "            #returning False in on_data disconnects the stream\n",
        "            return False"
      ],
      "execution_count": 0,
      "outputs": []
    },
    {
      "cell_type": "code",
      "metadata": {
        "id": "ttTTrwxbeZHk",
        "colab_type": "code",
        "colab": {}
      },
      "source": [
        "consumer_key = '4CxCgOihtfYhbcvC5AsomuwOM'\n",
        "consumer_secret = 'iUJtq2SRZkBbe9AmejCUkGSoxoY45cy5kKKxcXJ3B7RSgkKggf'  \n",
        "access_token = '902193054-tcz5JdCS0i48DLNA0R0nu8sk6oO8p5GGd7Gp2Y4Z'\n",
        "access_token_secret = 'ADRBsgKk0to3eSebXVguflvvDAYvSp7RGr5BMz6duJqdk'\n",
        "auth1 = tweepy.OAuthHandler(consumer_key, consumer_secret)\n",
        "auth1.set_access_token(access_token, access_token_secret)"
      ],
      "execution_count": 0,
      "outputs": []
    },
    {
      "cell_type": "code",
      "metadata": {
        "id": "eyKGsbInUyXV",
        "colab_type": "code",
        "colab": {}
      },
      "source": [
        "tweetsStream = tweepy.Stream(auth = auth1, listener=TweetStreamListener())\n",
        "tweetsStream.filter(track=['shortness of breath' , 'sore throat' , 'headache' , 'respiratory virus' , 'bronchoalveolar lavage fluid' , 'ground glass opacities' , 'Bluish lips or face', 'Real-Time RT-PCR Diagnostic Panel', 'myalgia', 'fever 100', 'fever 38C', 'rhinorrhea', 'dyspnea', 'Nausea'])\n"
      ],
      "execution_count": 0,
      "outputs": []
    }
  ]
}